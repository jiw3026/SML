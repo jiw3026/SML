{
  "nbformat": 4,
  "nbformat_minor": 0,
  "metadata": {
    "colab": {
      "provenance": [],
      "authorship_tag": "ABX9TyNkkFTjhJaPVHJsmmdPe19J",
      "include_colab_link": true
    },
    "kernelspec": {
      "name": "python3",
      "display_name": "Python 3"
    },
    "language_info": {
      "name": "python"
    }
  },
  "cells": [
    {
      "cell_type": "markdown",
      "metadata": {
        "id": "view-in-github",
        "colab_type": "text"
      },
      "source": [
        "<a href=\"https://colab.research.google.com/github/jiw3026/SML/blob/main/%EB%8D%B0%EC%9D%B4%ED%84%B0_%EC%A0%84%EC%B2%98%EB%A6%AC.ipynb\" target=\"_parent\"><img src=\"https://colab.research.google.com/assets/colab-badge.svg\" alt=\"Open In Colab\"/></a>"
      ]
    },
    {
      "cell_type": "code",
      "execution_count": null,
      "metadata": {
        "id": "iuNmBYZcVyWv"
      },
      "outputs": [],
      "source": [
        "import pandas as pd\n",
        "import numpy as np\n",
        "from sklearn.model_selection import train_test_split"
      ]
    },
    {
      "cell_type": "code",
      "source": [
        "#데이터 불러오기\n",
        "train = pd.read_csv('train.csv') \n",
        "test = pd.read_csv('test.csv')"
      ],
      "metadata": {
        "id": "AzUFufWjV5iE"
      },
      "execution_count": null,
      "outputs": []
    },
    {
      "cell_type": "code",
      "source": [
        "#결측치 0으로 처리\n",
        "train.fillna(0,inplace = True)\n",
        "test.fillna(0,inplace = True)"
      ],
      "metadata": {
        "id": "bBDgxnPIV-wf"
      },
      "execution_count": null,
      "outputs": []
    },
    {
      "cell_type": "code",
      "source": [
        "#이상치 처리(IQR 25%~75%)\n",
        "colL  = ['hour','hour_bef_temperature', 'hour_bef_precipitation', 'hour_bef_windspeed', 'hour_bef_humidity', 'hour_bef_visibility', 'hour_bef_visibility',\n",
        "      'hour_bef_ozone', 'hour_bef_pm10', 'hour_bef_pm2.5', 'count']\n",
        "\n",
        "train_iqr = train.copy()\n",
        "for col in colL:\n",
        "  Q1 = train_iqr[col].quantile(.25)\n",
        "  Q3 = train_iqr[col].quantile(.75)\n",
        "  IQR = Q3 - Q1\n",
        "  train_del = train_iqr[((Q1-1.5*IQR) > train_iqr[col]) | ((Q3+1.5*IQR) < train_iqr[col])]\n",
        "  train_iqr = train_iqr.drop(train_del.index, axis=0)\n",
        "train_iqr"
      ],
      "metadata": {
        "id": "jBZzBzgcV_EW"
      },
      "execution_count": null,
      "outputs": []
    },
    {
      "cell_type": "code",
      "source": [
        "#train 데이터 내에서 X_train, X_test, y_train, y_test 데이터셋 분리함.\n",
        "train_x = train_iqr.drop(['count'],axis = 1)\n",
        "train_y = train_iqr['count']\n",
        "X_train, X_test, y_train, y_test = train_test_split(train_x, train_y, test_size=0.25, random_state=42)"
      ],
      "metadata": {
        "id": "nf1_QK9tWBCw"
      },
      "execution_count": null,
      "outputs": []
    },
    {
      "cell_type": "code",
      "source": [
        "#X_train 데이터 표준화\n",
        "from sklearn.preprocessing import StandardScaler\n",
        "\n",
        "scaler=StandardScaler()\n",
        "scaler.fit(X_train)\n",
        "X_train=scaler.transform(X_train)"
      ],
      "metadata": {
        "id": "gVBGoiLsWDjA"
      },
      "execution_count": null,
      "outputs": []
    },
    {
      "cell_type": "code",
      "source": [
        "#X_test 데이터 표준화\n",
        "X_test=scaler.transform(X_test)"
      ],
      "metadata": {
        "id": "Too9vwp9WFdu"
      },
      "execution_count": null,
      "outputs": []
    },
    {
      "cell_type": "markdown",
      "source": [
        "X_train : train에 사용하는 데이터의 x값\n",
        "\n",
        " y_train : train에 사용하는 데이터의 y값\n",
        "\n",
        " X_test : test(predict)에 사용할 데이터의 x값\n",
        " \n",
        " \n",
        "  y_test: test(predict)에 사용할 데이터의 y값\n",
        "\n",
        "  여기있는 X_train, X_test, y_train, y_test을 각자 모델 변수에 맞추어 사용하면 됩니다~~"
      ],
      "metadata": {
        "id": "yphzUBQAX2qI"
      }
    },
    {
      "cell_type": "markdown",
      "source": [
        "----------------------------------------------------------------------------------------------------------------------------------------------------------------"
      ],
      "metadata": {
        "id": "UX9-Z9uOYHrU"
      }
    },
    {
      "cell_type": "markdown",
      "source": [
        "<H1>그리드서치로 최적의 파라미터 찾기</H1>"
      ],
      "metadata": {
        "id": "5ec9mEfJgk_i"
      }
    },
    {
      "cell_type": "code",
      "source": [
        "from sklearn.model_selection import GridSearchCV\n",
        "param_grid = {\n",
        "    '파라미터 1':[100,200],\n",
        "    '파라미터 2': [6,8,10,12],\n",
        "    '파라미터 3':[0.1, 0.2, 0.3, 0.4, 0.5, 0.6, 0.7, 0.8],\n",
        "}\n",
        "grid_search = GridSearchCV(각자 모델 이름(), param_grid, cv=\"필요한 값\", scoring='neg_mean_squared_error')\n",
        "#예시: grid_search = GridSearchCV(XGBRegressor(random_state=42), param_grid, cv=2, n_jobs=1, scoring='neg_mean_squared_error')\n",
        "#scoring='neg_mean_squared_error'을 꼭 넣어야 rmse에서 이상한 값이 안나옵니다.\n",
        "grid_search.fit(X_train,y_train)"
      ],
      "metadata": {
        "id": "tMLQ5SA6gsQX"
      },
      "execution_count": null,
      "outputs": []
    },
    {
      "cell_type": "markdown",
      "source": [
        "<H1>그리드서치에서 찾은 파라미터를 모델에 적용해주기</H1>"
      ],
      "metadata": {
        "id": "YqSQkVwQiPmg"
      }
    },
    {
      "cell_type": "code",
      "source": [
        "모델 변수 = 각자 모델 이름(파라미터 1=200, 파라미터 2=0.8, 파라미터 3=0.7)\n",
        "#예시: xgb_reg = XGBRegressor(objective='reg:squarederror', n_estimators=200, colsample_bylevel=0.8, colsample_bytree=0.7, eta=0.1, max_depth=6)\n",
        "모델 변수.fit(X_train,y_train)"
      ],
      "metadata": {
        "id": "D6QXALTdiOpP"
      },
      "execution_count": null,
      "outputs": []
    },
    {
      "cell_type": "markdown",
      "source": [
        "<H1>위에서 만든 최적의 파라미터를 적용한 모델로 rmse 구하기</H1>"
      ],
      "metadata": {
        "id": "r-kv7YUXjEaY"
      }
    },
    {
      "cell_type": "code",
      "source": [
        "pred = 모델 변수.predict(X_test)\n",
        "#예시: pred_xgb = xgb_reg.predict(X_test)\n",
        "mse = mean_squared_error(y_test, pred)\n",
        "rmse = np.sqrt(mse)\n",
        "print(rmse)"
      ],
      "metadata": {
        "id": "sltsBkLIjKKy"
      },
      "execution_count": null,
      "outputs": []
    },
    {
      "cell_type": "markdown",
      "source": [
        "<H1>그리드서치 돌린다음 각 파라미터 값 별 rmse 구하기</H1>\n",
        "<H3>모델 설명 쓸때 필요하신분 사용하세요.</H3>"
      ],
      "metadata": {
        "id": "H0gMAqquYSkd"
      }
    },
    {
      "cell_type": "code",
      "source": [
        "#grid_search는 grid_search = GridSearchCV(XGBRegressor(random_state=42, objective='reg:squar....이런식으로 그리드 서치 돌린거 적용한 모델 이름입니다. \n",
        "#각자 모델 변수에 맞춰서 아래에서 grid_search 이름을 다른걸로 바꿔서 돌리면 됩니다.\n",
        "scores_df = pd.DataFrame(grid_search.cv_results_)\n",
        "scores_df"
      ],
      "metadata": {
        "id": "0LOyPNa1WU-6"
      },
      "execution_count": null,
      "outputs": []
    },
    {
      "cell_type": "code",
      "source": [
        "scores_df['rmse'] = np.sqrt(-scores_df['mean_test_score'])"
      ],
      "metadata": {
        "id": "Xg8bSe_yWVI_"
      },
      "execution_count": null,
      "outputs": []
    },
    {
      "cell_type": "code",
      "source": [
        "#각 파라미터 값 별 rmse 비교\n",
        "#아래에 있는 'param_colsample_bylevel','param_colsample_bytree','param_eta','param_max_depth','param_n_estimators','mean_test_score'값들은 \n",
        "#각자 모델에서 사용한 파라미터 변수들 이름입니다. \n",
        "#위의 scores_df 데이터프레임에서 보고 파라미터 변수들 이름 알아내서 아래 값들만 바꿔주면 됩니다.\n",
        "scores_df[['param_colsample_bylevel','param_colsample_bytree','param_eta','param_max_depth','param_n_estimators','mean_test_score','rmse']].sort_values(\n",
        "    'mean_test_score', ascending=False)"
      ],
      "metadata": {
        "id": "JTK8EZv2WXXE"
      },
      "execution_count": null,
      "outputs": []
    }
  ]
}