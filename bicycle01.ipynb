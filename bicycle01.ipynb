{
  "nbformat": 4,
  "nbformat_minor": 0,
  "metadata": {
    "colab": {
      "provenance": [],
      "mount_file_id": "1tkj1j4fDOqb6GMt3hCR65wmewTLPNDRU",
      "authorship_tag": "ABX9TyPuUjQBFxRSNmT5fGsPGNO4",
      "include_colab_link": true
    },
    "kernelspec": {
      "name": "python3",
      "display_name": "Python 3"
    },
    "language_info": {
      "name": "python"
    }
  },
  "cells": [
    {
      "cell_type": "markdown",
      "metadata": {
        "id": "view-in-github",
        "colab_type": "text"
      },
      "source": [
        "<a href=\"https://colab.research.google.com/github/jiw3026/SML/blob/main/bicycle01.ipynb\" target=\"_parent\"><img src=\"https://colab.research.google.com/assets/colab-badge.svg\" alt=\"Open In Colab\"/></a>"
      ]
    },
    {
      "cell_type": "markdown",
      "source": [
        "### 따릉이 대여량 예측 연습해보기 - DACON\n"
      ],
      "metadata": {
        "id": "mQvgtIQX6omh"
      }
    },
    {
      "cell_type": "code",
      "source": [
        "!pip install mglearn\n",
        "!pip install --upgrade joblib==1.1.0"
      ],
      "metadata": {
        "colab": {
          "base_uri": "https://localhost:8080/"
        },
        "id": "mbIymHlfQroK",
        "outputId": "04707361-d7e3-4a7f-9141-d8866628ac20"
      },
      "execution_count": null,
      "outputs": [
        {
          "output_type": "stream",
          "name": "stdout",
          "text": [
            "Looking in indexes: https://pypi.org/simple, https://us-python.pkg.dev/colab-wheels/public/simple/\n",
            "Collecting mglearn\n",
            "  Downloading mglearn-0.1.9.tar.gz (540 kB)\n",
            "\u001b[K     |████████████████████████████████| 540 kB 5.1 MB/s \n",
            "\u001b[?25hRequirement already satisfied: numpy in /usr/local/lib/python3.7/dist-packages (from mglearn) (1.21.6)\n",
            "Requirement already satisfied: matplotlib in /usr/local/lib/python3.7/dist-packages (from mglearn) (3.2.2)\n",
            "Requirement already satisfied: scikit-learn in /usr/local/lib/python3.7/dist-packages (from mglearn) (1.0.2)\n",
            "Requirement already satisfied: pandas in /usr/local/lib/python3.7/dist-packages (from mglearn) (1.3.5)\n",
            "Requirement already satisfied: pillow in /usr/local/lib/python3.7/dist-packages (from mglearn) (7.1.2)\n",
            "Requirement already satisfied: cycler in /usr/local/lib/python3.7/dist-packages (from mglearn) (0.11.0)\n",
            "Requirement already satisfied: imageio in /usr/local/lib/python3.7/dist-packages (from mglearn) (2.9.0)\n",
            "Requirement already satisfied: joblib in /usr/local/lib/python3.7/dist-packages (from mglearn) (1.2.0)\n",
            "Requirement already satisfied: python-dateutil>=2.1 in /usr/local/lib/python3.7/dist-packages (from matplotlib->mglearn) (2.8.2)\n",
            "Requirement already satisfied: pyparsing!=2.0.4,!=2.1.2,!=2.1.6,>=2.0.1 in /usr/local/lib/python3.7/dist-packages (from matplotlib->mglearn) (3.0.9)\n",
            "Requirement already satisfied: kiwisolver>=1.0.1 in /usr/local/lib/python3.7/dist-packages (from matplotlib->mglearn) (1.4.4)\n",
            "Requirement already satisfied: typing-extensions in /usr/local/lib/python3.7/dist-packages (from kiwisolver>=1.0.1->matplotlib->mglearn) (4.1.1)\n",
            "Requirement already satisfied: six>=1.5 in /usr/local/lib/python3.7/dist-packages (from python-dateutil>=2.1->matplotlib->mglearn) (1.15.0)\n",
            "Requirement already satisfied: pytz>=2017.3 in /usr/local/lib/python3.7/dist-packages (from pandas->mglearn) (2022.6)\n",
            "Requirement already satisfied: threadpoolctl>=2.0.0 in /usr/local/lib/python3.7/dist-packages (from scikit-learn->mglearn) (3.1.0)\n",
            "Requirement already satisfied: scipy>=1.1.0 in /usr/local/lib/python3.7/dist-packages (from scikit-learn->mglearn) (1.7.3)\n",
            "Building wheels for collected packages: mglearn\n",
            "  Building wheel for mglearn (setup.py) ... \u001b[?25l\u001b[?25hdone\n",
            "  Created wheel for mglearn: filename=mglearn-0.1.9-py2.py3-none-any.whl size=582637 sha256=eef87715f717b63c184e68d799d8fec92e42a399e9fc3fc8f271bd3a8342eb2c\n",
            "  Stored in directory: /root/.cache/pip/wheels/f1/17/e1/1720d6dcd70187b6b6c3750cb3508798f2b1d57c9d3214b08b\n",
            "Successfully built mglearn\n",
            "Installing collected packages: mglearn\n",
            "Successfully installed mglearn-0.1.9\n",
            "Looking in indexes: https://pypi.org/simple, https://us-python.pkg.dev/colab-wheels/public/simple/\n",
            "Collecting joblib==1.1.0\n",
            "  Downloading joblib-1.1.0-py2.py3-none-any.whl (306 kB)\n",
            "\u001b[K     |████████████████████████████████| 306 kB 4.7 MB/s \n",
            "\u001b[?25hInstalling collected packages: joblib\n",
            "  Attempting uninstall: joblib\n",
            "    Found existing installation: joblib 1.2.0\n",
            "    Uninstalling joblib-1.2.0:\n",
            "      Successfully uninstalled joblib-1.2.0\n",
            "Successfully installed joblib-1.1.0\n"
          ]
        }
      ]
    },
    {
      "cell_type": "code",
      "execution_count": null,
      "metadata": {
        "id": "Xbzgg1bp28yI"
      },
      "outputs": [],
      "source": [
        "import pandas as pd\n",
        "from sklearn.tree import DecisionTreeRegressor\n",
        "from sklearn.ensemble import RandomForestRegressor\n",
        "from sklearn.ensemble import RandomForestClassifier\n",
        "from sklearn.experimental import enable_iterative_imputer\n",
        "from sklearn.impute import IterativeImputer\n",
        "from sklearn.model_selection import train_test_split\n",
        "import mglearn"
      ]
    },
    {
      "cell_type": "code",
      "source": [
        "%matplotlib inline\n",
        "import seaborn as sns           \n",
        "import matplotlib.pyplot as plt "
      ],
      "metadata": {
        "id": "lOpylBXTRL2v"
      },
      "execution_count": null,
      "outputs": []
    },
    {
      "cell_type": "code",
      "source": [
        "from google.colab import drive\n",
        "drive.mount('/content/drive')"
      ],
      "metadata": {
        "colab": {
          "base_uri": "https://localhost:8080/"
        },
        "id": "VSky0i-_4Bpk",
        "outputId": "5c2585e8-a7d5-45c4-8de8-9d562e88fd03"
      },
      "execution_count": null,
      "outputs": [
        {
          "output_type": "stream",
          "name": "stdout",
          "text": [
            "Drive already mounted at /content/drive; to attempt to forcibly remount, call drive.mount(\"/content/drive\", force_remount=True).\n"
          ]
        }
      ]
    },
    {
      "cell_type": "code",
      "source": [
        "train = pd.read_csv('/content/drive/MyDrive/Colab Notebooks/SML/train.csv')\n",
        "test = pd.read_csv('/content/drive/MyDrive/Colab Notebooks/SML/test.csv')\n",
        "submission = pd.read_csv('/content/drive/MyDrive/Colab Notebooks/SML/submission.csv')"
      ],
      "metadata": {
        "id": "btnqdV3A4ltD"
      },
      "execution_count": null,
      "outputs": []
    },
    {
      "cell_type": "code",
      "source": [
        "train.isna().sum()"
      ],
      "metadata": {
        "colab": {
          "base_uri": "https://localhost:8080/"
        },
        "id": "0G-rd0Rj48_8",
        "outputId": "dc36d048-afcb-4fcf-f19a-3452e856c303"
      },
      "execution_count": null,
      "outputs": [
        {
          "output_type": "execute_result",
          "data": {
            "text/plain": [
              "id                          0\n",
              "hour                        0\n",
              "hour_bef_temperature        2\n",
              "hour_bef_precipitation      2\n",
              "hour_bef_windspeed          9\n",
              "hour_bef_humidity           2\n",
              "hour_bef_visibility         2\n",
              "hour_bef_ozone             76\n",
              "hour_bef_pm10              90\n",
              "hour_bef_pm2.5            117\n",
              "count                       0\n",
              "dtype: int64"
            ]
          },
          "metadata": {},
          "execution_count": 9
        }
      ]
    },
    {
      "cell_type": "code",
      "source": [
        "sns.countplot(data = train, x= 'hour')"
      ],
      "metadata": {
        "colab": {
          "base_uri": "https://localhost:8080/",
          "height": 297
        },
        "id": "IQhR8f6M5TfY",
        "outputId": "fa14c57a-8ae2-48c5-ec20-10c25566941f"
      },
      "execution_count": null,
      "outputs": [
        {
          "output_type": "execute_result",
          "data": {
            "text/plain": [
              "<matplotlib.axes._subplots.AxesSubplot at 0x7f6f460eb990>"
            ]
          },
          "metadata": {},
          "execution_count": 17
        },
        {
          "output_type": "display_data",
          "data": {
            "text/plain": [
              "<Figure size 432x288 with 1 Axes>"
            ],
            "image/png": "[encoded data removed]"
          },
          "metadata": {
            "needs_background": "light"
          }
        }
      ]
    },
    {
      "cell_type": "code",
      "source": [
        "plt.plot('hour', 'count', 'r+', data = train) #저녁 시간대에 가장 많이 사용함을 확인"
      ],
      "metadata": {
        "colab": {
          "base_uri": "https://localhost:8080/",
          "height": 283
        },
        "id": "y5T2ljFBYb3w",
        "outputId": "eb0f3a74-91b9-46ae-94f8-08eff43ef5a7"
      },
      "execution_count": null,
      "outputs": [
        {
          "output_type": "execute_result",
          "data": {
            "text/plain": [
              "[<matplotlib.lines.Line2D at 0x7f6f4665f210>]"
            ]
          },
          "metadata": {},
          "execution_count": 22
        },
        {
          "output_type": "display_data",
          "data": {
            "text/plain": [
              "<Figure size 432x288 with 1 Axes>"
            ],
            "image/png": "[encoded data removed]"
          },
          "metadata": {
            "needs_background": "light"
          }
        }
      ]
    },
    {
      "cell_type": "code",
      "source": [
        "sns.lmplot(x = 'hour', y = 'count', data = train) #저녁 시간대에 가장 많이 사용함을 확인"
      ],
      "metadata": {
        "colab": {
          "base_uri": "https://localhost:8080/",
          "height": 387
        },
        "id": "BHDeQQH0YdyE",
        "outputId": "affa6a71-28ae-4f2b-eb6d-030f1e9538b0"
      },
      "execution_count": null,
      "outputs": [
        {
          "output_type": "execute_result",
          "data": {
            "text/plain": [
              "<seaborn.axisgrid.FacetGrid at 0x7f6f43606050>"
            ]
          },
          "metadata": {},
          "execution_count": 24
        },
        {
          "output_type": "display_data",
          "data": {
            "text/plain": [
              "<Figure size 360x360 with 1 Axes>"
            ],
            "image/png": "[encoded data removed]"
          },
          "metadata": {
            "needs_background": "light"
          }
        }
      ]
    },
    {
      "cell_type": "code",
      "source": [
        "it_train = train.copy()\n",
        "\n",
        "it_train = IterativeImputer(random_state=2021).fit_transform(it_train)\n",
        "\n",
        "itImp = pd.DataFrame(it_train)\n",
        "\n",
        "column_names = [\"dayid\",\"hourid\", \"hour_bef_temperature\", \"hour_bef_precipitation\",\"hour_bef_windspeed\", \"hour_bef_humidity\", \"hour_bef_visibility\", \"hour_bef_ozone\", \"hour_bef_pm10\", \"hour_bef_pm2.5\", 'count']\n",
        "itImp.columns = column_names"
      ],
      "metadata": {
        "id": "hJD_PcnJb0Ms",
        "colab": {
          "base_uri": "https://localhost:8080/"
        },
        "outputId": "d63001c4-ce06-4b45-e9ca-707029eb6a52"
      },
      "execution_count": null,
      "outputs": [
        {
          "output_type": "stream",
          "name": "stderr",
          "text": [
            "/usr/local/lib/python3.7/dist-packages/sklearn/impute/_iterative.py:701: ConvergenceWarning: [IterativeImputer] Early stopping criterion not reached.\n",
            "  ConvergenceWarning,\n"
          ]
        }
      ]
    },
    {
      "cell_type": "code",
      "source": [
        "itImp_mid = itImp.copy()\n",
        "\n",
        "for ilt in column_names:\n",
        "  Q1 = itImp_mid[ilt].quantile(0.25)\n",
        "  Q3 = itImp_mid[ilt].quantile(0.75)\n",
        "  IQR = Q3-Q1\n",
        "  train_delout = itImp_mid[(itImp_mid[ilt] < (Q1 - 1.5*IQR)) | itImp_mid[ilt] > (Q3 + 1.5*IQR) ]\n",
        "  itImp_mid = itImp_mid.drop(train_delout.index, axis = 0)"
      ],
      "metadata": {
        "id": "BNC_I8MjhQVI"
      },
      "execution_count": null,
      "outputs": []
    },
    {
      "cell_type": "code",
      "source": [
        "def busyHourGen(data, col):\n",
        "  lst = data[col]\n",
        "  lst_ = []\n",
        "  for i in lst:\n",
        "    if (6 < i < 10) or (16 < i < 20):\n",
        "      lst_.append(1)\n",
        "    else:\n",
        "      lst_.append(0)\n",
        "    data['busy_hour'] = lst_\n",
        "    return data"
      ],
      "metadata": {
        "id": "7AAEJOIEjChU"
      },
      "execution_count": null,
      "outputs": []
    },
    {
      "cell_type": "code",
      "source": [
        "an = busyHourGen(itImp_mid, 'hourid')"
      ],
      "metadata": {
        "id": "vKetICCVjgWG"
      },
      "execution_count": null,
      "outputs": []
    },
    {
      "cell_type": "code",
      "source": [
        "import numpy as np"
      ],
      "metadata": {
        "id": "ZoxKccTZkJUD"
      },
      "execution_count": null,
      "outputs": []
    },
    {
      "cell_type": "code",
      "source": [
        "# X = an[an.columns.difference(['count', 'hour_bef_visibility'])]\n",
        "# colls = X.columns.tolist()\n",
        "# X = np.column_stack((X['hourid']**5, X['hour_bef_temperature']**4, X))\n",
        "# y = an[['count']]"
      ],
      "metadata": {
        "id": "iSxg9J6UjvG0"
      },
      "execution_count": null,
      "outputs": []
    },
    {
      "cell_type": "code",
      "source": [
        "# pipe_lr = maek_pipeline(MinMaxScaler(), LinearRegression())\n",
        "# pipe_lr.fit(X_train, Y_train)\n",
        "# y_pred = pipe_lr.predict(X_val)\n",
        "# rmse = np.sqrt(mean_squared_error(y_val, y_pred))\n",
        "# print(\"rmse of Linear Regression : {:.6f}\".format(rmse))"
      ],
      "metadata": {
        "id": "JF7Sj0-kkoeI"
      },
      "execution_count": null,
      "outputs": []
    },
    {
      "cell_type": "code",
      "source": [
        "test_df = test.copy()\n",
        "train_df = train.copy()\n",
        "\n",
        "train_df = train_df.dropna()\n",
        "\n",
        "y_train = train_df['count']"
      ],
      "metadata": {
        "id": "iPkI6t3jlkV9"
      },
      "execution_count": null,
      "outputs": []
    },
    {
      "cell_type": "code",
      "source": [
        "train_df.head()\n",
        "X_train = train_df.iloc[:, :-1]"
      ],
      "metadata": {
        "id": "Ei2Ax4nsnmx5"
      },
      "execution_count": null,
      "outputs": []
    },
    {
      "cell_type": "code",
      "source": [
        "from sklearn.tree import DecisionTreeClassifier\n",
        "from sklearn.model_selection import train_test_split\n",
        "\n",
        "X = test_df.iloc[:, 1:]  # 30개 변수  -- iloc : 인덱스를 사용해서 dataframe의 행 출력\n",
        "y = test.iloc[:, 0]   # target 변수 diagnosis \n",
        "\n",
        "# 데이터셋을 학습(train)과 테스트(test) 세트로 분할\n",
        "# random_state : random 으로 분할시 사용되는 난수 seed 숫자\n",
        "#X_train, X_test, y_train, y_test = train_test_split(X, y, test_size = 0.25, stratify=y, random_state=42)\n",
        "\n",
        "# x는 독립변수 y는 종속변수, test_size의 default값은 0.25\n",
        "# 아래 train - test 들의 순서 중요 -- 그대로 작성하세요~\n",
        "X_train, X_test, y_train, y_test = train_test_split(X, y, test_size = 0.25, random_state=42) #max_depth 설정 안함\n",
        "\n",
        "tree = DecisionTreeClassifier(random_state=0)  \n",
        "tree.fit(X_train, y_train) # 학습 완료\n",
        "print(\"학습용 데이터 정확도: {:.3f}\".format(tree.score(X_train, y_train))) #overfitting 심함\n",
        "print(\"시험용 데이터 정확도: {:.3f}\".format(tree.score(X_test, y_test)))"
      ],
      "metadata": {
        "colab": {
          "base_uri": "https://localhost:8080/"
        },
        "id": "ygBqmJ1tld_0",
        "outputId": "12e295fb-1e71-4344-9d3e-be7df6107fef"
      },
      "execution_count": null,
      "outputs": [
        {
          "output_type": "stream",
          "name": "stdout",
          "text": [
            "학습용 데이터 정확도: 1.000\n"
          ]
        }
      ]
    },
    {
      "cell_type": "code",
      "source": [
        "print(\"학습용 데이터 정확도: {:.3f}\".format(tree.score(X_train, y_train)))"
      ],
      "metadata": {
        "colab": {
          "base_uri": "https://localhost:8080/"
        },
        "id": "Y4bVkxVGrG5M",
        "outputId": "5448412d-cc66-4f1a-a532-cec1e81f7d2a"
      },
      "execution_count": null,
      "outputs": [
        {
          "output_type": "stream",
          "name": "stdout",
          "text": [
            "학습용 데이터 정확도: 1.000\n"
          ]
        }
      ]
    },
    {
      "cell_type": "code",
      "source": [
        "X = train_df.iloc[:, :-1]  # 30개 변수  -- iloc : 인덱스를 사용해서 dataframe의 행 출력\n",
        "y = train_df['count']\n",
        "X"
      ],
      "metadata": {
        "colab": {
          "base_uri": "https://localhost:8080/",
          "height": 423
        },
        "id": "RPEXjDuAtq8t",
        "outputId": "6db0e13b-bb42-4d17-8a55-aa748a757318"
      },
      "execution_count": null,
      "outputs": [
        {
          "output_type": "execute_result",
          "data": {
            "text/plain": [
              "        id  hour  hour_bef_temperature  hour_bef_precipitation  \\\n",
              "0        3    20                  16.3                     1.0   \n",
              "1        6    13                  20.1                     0.0   \n",
              "2        7     6                  13.9                     0.0   \n",
              "3        8    23                   8.1                     0.0   \n",
              "4        9    18                  29.5                     0.0   \n",
              "...    ...   ...                   ...                     ...   \n",
              "1454  2174     4                  16.8                     0.0   \n",
              "1455  2175     3                  10.8                     0.0   \n",
              "1456  2176     5                  18.3                     0.0   \n",
              "1457  2178    21                  20.7                     0.0   \n",
              "1458  2179    17                  21.1                     0.0   \n",
              "\n",
              "      hour_bef_windspeed  hour_bef_humidity  hour_bef_visibility  \\\n",
              "0                    1.5               89.0                576.0   \n",
              "1                    1.4               48.0                916.0   \n",
              "2                    0.7               79.0               1382.0   \n",
              "3                    2.7               54.0                946.0   \n",
              "4                    4.8                7.0               2000.0   \n",
              "...                  ...                ...                  ...   \n",
              "1454                 1.6               53.0               2000.0   \n",
              "1455                 3.8               45.0               2000.0   \n",
              "1456                 1.9               54.0               2000.0   \n",
              "1457                 3.7               37.0               1395.0   \n",
              "1458                 3.1               47.0               1973.0   \n",
              "\n",
              "      hour_bef_ozone  hour_bef_pm10  hour_bef_pm2.5  \n",
              "0              0.027           76.0            33.0  \n",
              "1              0.042           73.0            40.0  \n",
              "2              0.033           32.0            19.0  \n",
              "3              0.040           75.0            64.0  \n",
              "4              0.057           27.0            11.0  \n",
              "...              ...            ...             ...  \n",
              "1454           0.031           37.0            27.0  \n",
              "1455           0.039           34.0            19.0  \n",
              "1456           0.009           30.0            21.0  \n",
              "1457           0.082           71.0            36.0  \n",
              "1458           0.046           38.0            17.0  \n",
              "\n",
              "[1328 rows x 10 columns]"
            ],
            "text/html": [
              "\n",
              "  <div id=\"df-edceb010-efe0-4897-bf58-7cec6c18c5a3\">\n",
              "    <div class=\"colab-df-container\">\n",
              "      <div>\n",
              "<style scoped>\n",
              "    .dataframe tbody tr th:only-of-type {\n",
              "        vertical-align: middle;\n",
              "    }\n",
              "\n",
              "    .dataframe tbody tr th {\n",
              "        vertical-align: top;\n",
              "    }\n",
              "\n",
              "    .dataframe thead th {\n",
              "        text-align: right;\n",
              "    }\n",
              "</style>\n",
              "<table border=\"1\" class=\"dataframe\">\n",
              "  <thead>\n",
              "    <tr style=\"text-align: right;\">\n",
              "      <th></th>\n",
              "      <th>id</th>\n",
              "      <th>hour</th>\n",
              "      <th>hour_bef_temperature</th>\n",
              "      <th>hour_bef_precipitation</th>\n",
              "      <th>hour_bef_windspeed</th>\n",
              "      <th>hour_bef_humidity</th>\n",
              "      <th>hour_bef_visibility</th>\n",
              "      <th>hour_bef_ozone</th>\n",
              "      <th>hour_bef_pm10</th>\n",
              "      <th>hour_bef_pm2.5</th>\n",
              "    </tr>\n",
              "  </thead>\n",
              "  <tbody>\n",
              "    <tr>\n",
              "      <th>0</th>\n",
              "      <td>3</td>\n",
              "      <td>20</td>\n",
              "      <td>16.3</td>\n",
              "      <td>1.0</td>\n",
              "      <td>1.5</td>\n",
              "      <td>89.0</td>\n",
              "      <td>576.0</td>\n",
              "      <td>0.027</td>\n",
              "      <td>76.0</td>\n",
              "      <td>33.0</td>\n",
              "    </tr>\n",
              "    <tr>\n",
              "      <th>1</th>\n",
              "      <td>6</td>\n",
              "      <td>13</td>\n",
              "      <td>20.1</td>\n",
              "      <td>0.0</td>\n",
              "      <td>1.4</td>\n",
              "      <td>48.0</td>\n",
              "      <td>916.0</td>\n",
              "      <td>0.042</td>\n",
              "      <td>73.0</td>\n",
              "      <td>40.0</td>\n",
              "    </tr>\n",
              "    <tr>\n",
              "      <th>2</th>\n",
              "      <td>7</td>\n",
              "      <td>6</td>\n",
              "      <td>13.9</td>\n",
              "      <td>0.0</td>\n",
              "      <td>0.7</td>\n",
              "      <td>79.0</td>\n",
              "      <td>1382.0</td>\n",
              "      <td>0.033</td>\n",
              "      <td>32.0</td>\n",
              "      <td>19.0</td>\n",
              "    </tr>\n",
              "    <tr>\n",
              "      <th>3</th>\n",
              "      <td>8</td>\n",
              "      <td>23</td>\n",
              "      <td>8.1</td>\n",
              "      <td>0.0</td>\n",
              "      <td>2.7</td>\n",
              "      <td>54.0</td>\n",
              "      <td>946.0</td>\n",
              "      <td>0.040</td>\n",
              "      <td>75.0</td>\n",
              "      <td>64.0</td>\n",
              "    </tr>\n",
              "    <tr>\n",
              "      <th>4</th>\n",
              "      <td>9</td>\n",
              "      <td>18</td>\n",
              "      <td>29.5</td>\n",
              "      <td>0.0</td>\n",
              "      <td>4.8</td>\n",
              "      <td>7.0</td>\n",
              "      <td>2000.0</td>\n",
              "      <td>0.057</td>\n",
              "      <td>27.0</td>\n",
              "      <td>11.0</td>\n",
              "    </tr>\n",
              "    <tr>\n",
              "      <th>...</th>\n",
              "      <td>...</td>\n",
              "      <td>...</td>\n",
              "      <td>...</td>\n",
              "      <td>...</td>\n",
              "      <td>...</td>\n",
              "      <td>...</td>\n",
              "      <td>...</td>\n",
              "      <td>...</td>\n",
              "      <td>...</td>\n",
              "      <td>...</td>\n",
              "    </tr>\n",
              "    <tr>\n",
              "      <th>1454</th>\n",
              "      <td>2174</td>\n",
              "      <td>4</td>\n",
              "      <td>16.8</td>\n",
              "      <td>0.0</td>\n",
              "      <td>1.6</td>\n",
              "      <td>53.0</td>\n",
              "      <td>2000.0</td>\n",
              "      <td>0.031</td>\n",
              "      <td>37.0</td>\n",
              "      <td>27.0</td>\n",
              "    </tr>\n",
              "    <tr>\n",
              "      <th>1455</th>\n",
              "      <td>2175</td>\n",
              "      <td>3</td>\n",
              "      <td>10.8</td>\n",
              "      <td>0.0</td>\n",
              "      <td>3.8</td>\n",
              "      <td>45.0</td>\n",
              "      <td>2000.0</td>\n",
              "      <td>0.039</td>\n",
              "      <td>34.0</td>\n",
              "      <td>19.0</td>\n",
              "    </tr>\n",
              "    <tr>\n",
              "      <th>1456</th>\n",
              "      <td>2176</td>\n",
              "      <td>5</td>\n",
              "      <td>18.3</td>\n",
              "      <td>0.0</td>\n",
              "      <td>1.9</td>\n",
              "      <td>54.0</td>\n",
              "      <td>2000.0</td>\n",
              "      <td>0.009</td>\n",
              "      <td>30.0</td>\n",
              "      <td>21.0</td>\n",
              "    </tr>\n",
              "    <tr>\n",
              "      <th>1457</th>\n",
              "      <td>2178</td>\n",
              "      <td>21</td>\n",
              "      <td>20.7</td>\n",
              "      <td>0.0</td>\n",
              "      <td>3.7</td>\n",
              "      <td>37.0</td>\n",
              "      <td>1395.0</td>\n",
              "      <td>0.082</td>\n",
              "      <td>71.0</td>\n",
              "      <td>36.0</td>\n",
              "    </tr>\n",
              "    <tr>\n",
              "      <th>1458</th>\n",
              "      <td>2179</td>\n",
              "      <td>17</td>\n",
              "      <td>21.1</td>\n",
              "      <td>0.0</td>\n",
              "      <td>3.1</td>\n",
              "      <td>47.0</td>\n",
              "      <td>1973.0</td>\n",
              "      <td>0.046</td>\n",
              "      <td>38.0</td>\n",
              "      <td>17.0</td>\n",
              "    </tr>\n",
              "  </tbody>\n",
              "</table>\n",
              "<p>1328 rows × 10 columns</p>\n",
              "</div>\n",
              "      <button class=\"colab-df-convert\" onclick=\"convertToInteractive('df-edceb010-efe0-4897-bf58-7cec6c18c5a3')\"\n",
              "              title=\"Convert this dataframe to an interactive table.\"\n",
              "              style=\"display:none;\">\n",
              "        \n",
              "  <svg xmlns=\"http://www.w3.org/2000/svg\" height=\"24px\"viewBox=\"0 0 24 24\"\n",
              "       width=\"24px\">\n",
              "    <path d=\"M0 0h24v24H0V0z\" fill=\"none\"/>\n",
              "    <path d=\"M18.56 5.44l.94 2.06.94-2.06 2.06-.94-2.06-.94-.94-2.06-.94 2.06-2.06.94zm-11 1L8.5 8.5l.94-2.06 2.06-.94-2.06-.94L8.5 2.5l-.94 2.06-2.06.94zm10 10l.94 2.06.94-2.06 2.06-.94-2.06-.94-.94-2.06-.94 2.06-2.06.94z\"/><path d=\"M17.41 7.96l-1.37-1.37c-.4-.4-.92-.59-1.43-.59-.52 0-1.04.2-1.43.59L10.3 9.45l-7.72 7.72c-.78.78-.78 2.05 0 2.83L4 21.41c.39.39.9.59 1.41.59.51 0 1.02-.2 1.41-.59l7.78-7.78 2.81-2.81c.8-.78.8-2.07 0-2.86zM5.41 20L4 18.59l7.72-7.72 1.47 1.35L5.41 20z\"/>\n",
              "  </svg>\n",
              "      </button>\n",
              "      \n",
              "  <style>\n",
              "    .colab-df-container {\n",
              "      display:flex;\n",
              "      flex-wrap:wrap;\n",
              "      gap: 12px;\n",
              "    }\n",
              "\n",
              "    .colab-df-convert {\n",
              "      background-color: #E8F0FE;\n",
              "      border: none;\n",
              "      border-radius: 50%;\n",
              "      cursor: pointer;\n",
              "      display: none;\n",
              "      fill: #1967D2;\n",
              "      height: 32px;\n",
              "      padding: 0 0 0 0;\n",
              "      width: 32px;\n",
              "    }\n",
              "\n",
              "    .colab-df-convert:hover {\n",
              "      background-color: #E2EBFA;\n",
              "      box-shadow: 0px 1px 2px rgba(60, 64, 67, 0.3), 0px 1px 3px 1px rgba(60, 64, 67, 0.15);\n",
              "      fill: #174EA6;\n",
              "    }\n",
              "\n",
              "    [theme=dark] .colab-df-convert {\n",
              "      background-color: #3B4455;\n",
              "      fill: #D2E3FC;\n",
              "    }\n",
              "\n",
              "    [theme=dark] .colab-df-convert:hover {\n",
              "      background-color: #434B5C;\n",
              "      box-shadow: 0px 1px 3px 1px rgba(0, 0, 0, 0.15);\n",
              "      filter: drop-shadow(0px 1px 2px rgba(0, 0, 0, 0.3));\n",
              "      fill: #FFFFFF;\n",
              "    }\n",
              "  </style>\n",
              "\n",
              "      <script>\n",
              "        const buttonEl =\n",
              "          document.querySelector('#df-edceb010-efe0-4897-bf58-7cec6c18c5a3 button.colab-df-convert');\n",
              "        buttonEl.style.display =\n",
              "          google.colab.kernel.accessAllowed ? 'block' : 'none';\n",
              "\n",
              "        async function convertToInteractive(key) {\n",
              "          const element = document.querySelector('#df-edceb010-efe0-4897-bf58-7cec6c18c5a3');\n",
              "          const dataTable =\n",
              "            await google.colab.kernel.invokeFunction('convertToInteractive',\n",
              "                                                     [key], {});\n",
              "          if (!dataTable) return;\n",
              "\n",
              "          const docLinkHtml = 'Like what you see? Visit the ' +\n",
              "            '<a target=\"_blank\" href=https://colab.research.google.com/notebooks/data_table.ipynb>data table notebook</a>'\n",
              "            + ' to learn more about interactive tables.';\n",
              "          element.innerHTML = '';\n",
              "          dataTable['output_type'] = 'display_data';\n",
              "          await google.colab.output.renderOutput(dataTable, element);\n",
              "          const docLink = document.createElement('div');\n",
              "          docLink.innerHTML = docLinkHtml;\n",
              "          element.appendChild(docLink);\n",
              "        }\n",
              "      </script>\n",
              "    </div>\n",
              "  </div>\n",
              "  "
            ]
          },
          "metadata": {},
          "execution_count": 96
        }
      ]
    },
    {
      "cell_type": "code",
      "source": [
        "from sklearn.ensemble import RandomForestClassifier\n",
        "\n",
        "# radius_mean, texture_mean 변수만 이용하여 \n",
        "# 5개의 나무를 만드는 예 (n_estimators = 5, 실제는 수백개의 트리를 만든다)\n",
        "forest = RandomForestClassifier(n_estimators=5, random_state=2)\n",
        "forest.fit(X_train.iloc[:, 0:2], y_train)\n",
        "\n",
        "# 5개 나무 각각의 분류 경계를 그림 (서로 모양이 많이 다르다)\n",
        "# 2차원으로 나무의 결과를 보여주기 위한 코드로 mglearn의 함수들을 이용 - 여기서는 설명 생략\n",
        "fig, axes = plt.subplots(2, 3, figsize=(20, 10))\n",
        "for i, (ax, tree) in enumerate(zip(axes.ravel(), forest.estimators_)):\n",
        "    ax.set_title(\"Tree {}\".format(i))\n",
        "    mglearn.plots.plot_tree_partition(X.values, y, tree, ax=ax)\n",
        "    \n",
        "mglearn.plots.plot_2d_separator(forest, X.values, fill=True, ax=axes[-1, -1], alpha=.4)\n",
        "axes[-1, -1].set_title(\"Random forest\")\n",
        "mglearn.discrete_scatter(X.iloc[:, 0], X.iloc[:, 1], y)\n",
        "plt.show()"
      ],
      "metadata": {
        "colab": {
          "base_uri": "https://localhost:8080/",
          "height": 986
        },
        "id": "f91O1KZbtdSy",
        "outputId": "f3563256-8525-48df-dcdb-a930e02b44c6"
      },
      "execution_count": null,
      "outputs": [
        {
          "output_type": "error",
          "ename": "IndexError",
          "evalue": "ignored",
          "traceback": [
            "\u001b[0;31m---------------------------------------------------------------------------\u001b[0m",
            "\u001b[0;31mIndexError\u001b[0m                                Traceback (most recent call last)",
            "\u001b[0;32m<ipython-input-100-761c3ad2c4f8>\u001b[0m in \u001b[0;36m<module>\u001b[0;34m\u001b[0m\n\u001b[1;32m     11\u001b[0m \u001b[0;32mfor\u001b[0m \u001b[0mi\u001b[0m\u001b[0;34m,\u001b[0m \u001b[0;34m(\u001b[0m\u001b[0max\u001b[0m\u001b[0;34m,\u001b[0m \u001b[0mtree\u001b[0m\u001b[0;34m)\u001b[0m \u001b[0;32min\u001b[0m \u001b[0menumerate\u001b[0m\u001b[0;34m(\u001b[0m\u001b[0mzip\u001b[0m\u001b[0;34m(\u001b[0m\u001b[0maxes\u001b[0m\u001b[0;34m.\u001b[0m\u001b[0mravel\u001b[0m\u001b[0;34m(\u001b[0m\u001b[0;34m)\u001b[0m\u001b[0;34m,\u001b[0m \u001b[0mforest\u001b[0m\u001b[0;34m.\u001b[0m\u001b[0mestimators_\u001b[0m\u001b[0;34m)\u001b[0m\u001b[0;34m)\u001b[0m\u001b[0;34m:\u001b[0m\u001b[0;34m\u001b[0m\u001b[0;34m\u001b[0m\u001b[0m\n\u001b[1;32m     12\u001b[0m     \u001b[0max\u001b[0m\u001b[0;34m.\u001b[0m\u001b[0mset_title\u001b[0m\u001b[0;34m(\u001b[0m\u001b[0;34m\"Tree {}\"\u001b[0m\u001b[0;34m.\u001b[0m\u001b[0mformat\u001b[0m\u001b[0;34m(\u001b[0m\u001b[0mi\u001b[0m\u001b[0;34m)\u001b[0m\u001b[0;34m)\u001b[0m\u001b[0;34m\u001b[0m\u001b[0;34m\u001b[0m\u001b[0m\n\u001b[0;32m---> 13\u001b[0;31m     \u001b[0mmglearn\u001b[0m\u001b[0;34m.\u001b[0m\u001b[0mplots\u001b[0m\u001b[0;34m.\u001b[0m\u001b[0mplot_tree_partition\u001b[0m\u001b[0;34m(\u001b[0m\u001b[0mX\u001b[0m\u001b[0;34m.\u001b[0m\u001b[0mvalues\u001b[0m\u001b[0;34m,\u001b[0m \u001b[0my\u001b[0m\u001b[0;34m,\u001b[0m \u001b[0mtree\u001b[0m\u001b[0;34m,\u001b[0m \u001b[0max\u001b[0m\u001b[0;34m=\u001b[0m\u001b[0max\u001b[0m\u001b[0;34m)\u001b[0m\u001b[0;34m\u001b[0m\u001b[0;34m\u001b[0m\u001b[0m\n\u001b[0m\u001b[1;32m     14\u001b[0m \u001b[0;34m\u001b[0m\u001b[0m\n\u001b[1;32m     15\u001b[0m \u001b[0mmglearn\u001b[0m\u001b[0;34m.\u001b[0m\u001b[0mplots\u001b[0m\u001b[0;34m.\u001b[0m\u001b[0mplot_2d_separator\u001b[0m\u001b[0;34m(\u001b[0m\u001b[0mforest\u001b[0m\u001b[0;34m,\u001b[0m \u001b[0mX\u001b[0m\u001b[0;34m.\u001b[0m\u001b[0mvalues\u001b[0m\u001b[0;34m,\u001b[0m \u001b[0mfill\u001b[0m\u001b[0;34m=\u001b[0m\u001b[0;32mTrue\u001b[0m\u001b[0;34m,\u001b[0m \u001b[0max\u001b[0m\u001b[0;34m=\u001b[0m\u001b[0maxes\u001b[0m\u001b[0;34m[\u001b[0m\u001b[0;34m-\u001b[0m\u001b[0;36m1\u001b[0m\u001b[0;34m,\u001b[0m \u001b[0;34m-\u001b[0m\u001b[0;36m1\u001b[0m\u001b[0;34m]\u001b[0m\u001b[0;34m,\u001b[0m \u001b[0malpha\u001b[0m\u001b[0;34m=\u001b[0m\u001b[0;36m.4\u001b[0m\u001b[0;34m)\u001b[0m\u001b[0;34m\u001b[0m\u001b[0;34m\u001b[0m\u001b[0m\n",
            "\u001b[0;32m/usr/local/lib/python3.7/dist-packages/mglearn/plot_interactive_tree.py\u001b[0m in \u001b[0;36mplot_tree_partition\u001b[0;34m(X, y, tree, ax)\u001b[0m\n\u001b[1;32m     81\u001b[0m     \u001b[0max\u001b[0m\u001b[0;34m.\u001b[0m\u001b[0mscatter\u001b[0m\u001b[0;34m(\u001b[0m\u001b[0mX1\u001b[0m\u001b[0;34m[\u001b[0m\u001b[0mborder\u001b[0m\u001b[0;34m]\u001b[0m\u001b[0;34m,\u001b[0m \u001b[0mX2\u001b[0m\u001b[0;34m[\u001b[0m\u001b[0mborder\u001b[0m\u001b[0;34m]\u001b[0m\u001b[0;34m,\u001b[0m \u001b[0mmarker\u001b[0m\u001b[0;34m=\u001b[0m\u001b[0;34m'.'\u001b[0m\u001b[0;34m,\u001b[0m \u001b[0ms\u001b[0m\u001b[0;34m=\u001b[0m\u001b[0;36m1\u001b[0m\u001b[0;34m)\u001b[0m\u001b[0;34m\u001b[0m\u001b[0;34m\u001b[0m\u001b[0m\n\u001b[1;32m     82\u001b[0m \u001b[0;34m\u001b[0m\u001b[0m\n\u001b[0;32m---> 83\u001b[0;31m     \u001b[0mdiscrete_scatter\u001b[0m\u001b[0;34m(\u001b[0m\u001b[0mX\u001b[0m\u001b[0;34m[\u001b[0m\u001b[0;34m:\u001b[0m\u001b[0;34m,\u001b[0m \u001b[0;36m0\u001b[0m\u001b[0;34m]\u001b[0m\u001b[0;34m,\u001b[0m \u001b[0mX\u001b[0m\u001b[0;34m[\u001b[0m\u001b[0;34m:\u001b[0m\u001b[0;34m,\u001b[0m \u001b[0;36m1\u001b[0m\u001b[0;34m]\u001b[0m\u001b[0;34m,\u001b[0m \u001b[0my\u001b[0m\u001b[0;34m,\u001b[0m \u001b[0max\u001b[0m\u001b[0;34m=\u001b[0m\u001b[0max\u001b[0m\u001b[0;34m)\u001b[0m\u001b[0;34m\u001b[0m\u001b[0;34m\u001b[0m\u001b[0m\n\u001b[0m\u001b[1;32m     84\u001b[0m     \u001b[0max\u001b[0m\u001b[0;34m.\u001b[0m\u001b[0mset_xlim\u001b[0m\u001b[0;34m(\u001b[0m\u001b[0mx_min\u001b[0m\u001b[0;34m,\u001b[0m \u001b[0mx_max\u001b[0m\u001b[0;34m)\u001b[0m\u001b[0;34m\u001b[0m\u001b[0;34m\u001b[0m\u001b[0m\n\u001b[1;32m     85\u001b[0m     \u001b[0max\u001b[0m\u001b[0;34m.\u001b[0m\u001b[0mset_ylim\u001b[0m\u001b[0;34m(\u001b[0m\u001b[0my_min\u001b[0m\u001b[0;34m,\u001b[0m \u001b[0my_max\u001b[0m\u001b[0;34m)\u001b[0m\u001b[0;34m\u001b[0m\u001b[0;34m\u001b[0m\u001b[0m\n",
            "\u001b[0;32m/usr/local/lib/python3.7/dist-packages/mglearn/plot_helpers.py\u001b[0m in \u001b[0;36mdiscrete_scatter\u001b[0;34m(x1, x2, y, markers, s, ax, labels, padding, alpha, c, markeredgewidth)\u001b[0m\n\u001b[1;32m     93\u001b[0m             \u001b[0mmarkeredgecolor\u001b[0m \u001b[0;34m=\u001b[0m \u001b[0;34m\"black\"\u001b[0m\u001b[0;34m\u001b[0m\u001b[0;34m\u001b[0m\u001b[0m\n\u001b[1;32m     94\u001b[0m \u001b[0;34m\u001b[0m\u001b[0m\n\u001b[0;32m---> 95\u001b[0;31m         lines.append(ax.plot(x1[mask], x2[mask], markers[i], markersize=s,\n\u001b[0m\u001b[1;32m     96\u001b[0m                              \u001b[0mlabel\u001b[0m\u001b[0;34m=\u001b[0m\u001b[0mlabels\u001b[0m\u001b[0;34m[\u001b[0m\u001b[0mi\u001b[0m\u001b[0;34m]\u001b[0m\u001b[0;34m,\u001b[0m \u001b[0malpha\u001b[0m\u001b[0;34m=\u001b[0m\u001b[0malpha\u001b[0m\u001b[0;34m,\u001b[0m \u001b[0mc\u001b[0m\u001b[0;34m=\u001b[0m\u001b[0mcolor\u001b[0m\u001b[0;34m,\u001b[0m\u001b[0;34m\u001b[0m\u001b[0;34m\u001b[0m\u001b[0m\n\u001b[1;32m     97\u001b[0m                              \u001b[0mmarkeredgewidth\u001b[0m\u001b[0;34m=\u001b[0m\u001b[0mmarkeredgewidth\u001b[0m\u001b[0;34m,\u001b[0m\u001b[0;34m\u001b[0m\u001b[0;34m\u001b[0m\u001b[0m\n",
            "\u001b[0;31mIndexError\u001b[0m: list index out of range"
          ]
        },
        {
          "output_type": "display_data",
          "data": {
            "text/plain": [
              "<Figure size 1440x720 with 6 Axes>"
            ],
            "image/png": "[encoded data removed]"
          },
          "metadata": {
            "needs_background": "light"
          }
        }
      ]
    },
    {
      "cell_type": "code",
      "source": [
        "X_test = test.dropna()"
      ],
      "metadata": {
        "id": "qg8OJvCKu4AG"
      },
      "execution_count": null,
      "outputs": []
    },
    {
      "cell_type": "code",
      "source": [
        "from sklearn.ensemble import RandomForestClassifier\n",
        "from sklearn.metrics import accuracy_score # 정확도 함수\n",
        "\n",
        "clf = RandomForestClassifier(n_estimators=20, max_depth=5,random_state=0)\n",
        "clf.fit(X_train,y_train)\n",
        "\n",
        "predict1 = clf.predict(X_test)\n",
        "print(predict1)\n",
        "#print(accuracy_score(test_y,predict1))"
      ],
      "metadata": {
        "colab": {
          "base_uri": "https://localhost:8080/"
        },
        "id": "i8VS6PZGrIeQ",
        "outputId": "a5f1bd6c-0f78-4383-81da-ff17c76045bf"
      },
      "execution_count": null,
      "outputs": [
        {
          "output_type": "execute_result",
          "data": {
            "text/plain": [
              "array([ 30., 138.,  49.,  86.,   2., 107., 201., 304.,  15.,  37., 122.,\n",
              "        38., 138.,  86.,  92., 138.,  13.,  92.,  38., 138.,  15.,  86.,\n",
              "       114., 215., 114.,  20., 135.,  87., 138.,  30.,  86.,  95., 113.,\n",
              "        15., 114.,  92., 304.,  13., 113.,   7.,  37., 113., 205.,   9.,\n",
              "        46.,  33., 113.,  86.,  13.,  93., 113., 189.,  52., 113.,  20.,\n",
              "        15.,  50.,  87., 113., 113., 186., 113.,   9., 304., 112.,  33.,\n",
              "        85., 170.,  87.,  15., 113., 113.,  11., 113.,  38., 170., 113.,\n",
              "       106.,  11.,  15.,  87., 113., 304.,  52., 114., 138., 113.,  85.,\n",
              "        86.,  20.,  11.,  11., 135., 124.,  11., 113.,  87.,  15.,   1.,\n",
              "        87.,  15., 304., 165.,  95., 214., 113., 107., 106.,  92.,  20.,\n",
              "       214.,  11., 114.,  13.,   2., 124.,  86., 189.,  20., 127., 113.,\n",
              "        46., 106., 113., 106.,  40., 109., 113.,  87.,  15.,  15.,  40.,\n",
              "        86.,  87.,  86.,  85., 113., 304., 106., 214., 113., 304.,  13.,\n",
              "         8., 189.,  20.,  86., 127., 106.,  86., 113., 304., 113.,  15.,\n",
              "        46.,  92., 113.,  86.,  87., 113.,  86., 113.,  87., 222., 114.,\n",
              "       114., 215., 113., 113., 189., 113., 127.,  20.,  40., 150., 150.,\n",
              "        52.,  86., 106.,  87., 113., 113., 214., 113., 106., 106.,  95.,\n",
              "        86.,  46.,  86., 106., 113.,  20., 114., 124., 113., 113.,  95.,\n",
              "        95., 113., 113., 113.,  87., 106.,  86.,  13.,  33.,  87., 109.,\n",
              "        86., 113., 113.,  15.,  87., 113.,  74.,  86.,  74., 106.,  87.,\n",
              "       113., 106., 137.,  40., 113.,  13.,  40., 114.,  87.,  95., 113.,\n",
              "        15.,  13.,  11., 304., 135.,  87., 106.,  85.,  86., 375.,  33.,\n",
              "        11., 215.,  86., 113.,  13.,  13., 112.,  46., 304.,  86., 150.,\n",
              "       113., 113., 113.,  86., 209.,  86., 165.,  95.,  20., 113.,  87.,\n",
              "        15., 113.,  13.,  87., 113., 106.,  39.,  74., 113., 113.,   9.,\n",
              "       106., 135.,  37., 107.,  86., 126.,   8., 113., 124., 113., 304.,\n",
              "       304., 152., 107., 214.,  86., 113., 113., 214.,  52., 122., 122.,\n",
              "       124.,  20.,  15.,  11., 109.,  20.,  20., 124.,  40., 113., 113.,\n",
              "        85.,  74.,   9.,  13.,  20.,  92., 113., 113.,  15., 122., 113.,\n",
              "       113., 113.,  15.,  86., 113., 113., 189.,  15.,  76.,  87., 114.,\n",
              "       209.,  87.,  95.,  92., 215.,  11.,  86.,  87.,  95., 106.,  92.,\n",
              "        87., 113.,  86.,  74., 114.,  33., 304., 113.,  18., 113., 113.,\n",
              "       138.,  19.,  33., 106.,  15.,  86.,  92., 106., 113., 113., 106.,\n",
              "        15., 375.,  87., 304.,  20.,  20., 113.,  87., 189., 113.,  86.,\n",
              "        15., 113.,   9.,  86.,  86., 122.,  15., 107.,  86.,  74.,  92.,\n",
              "        13., 106., 113., 150.,  95.,  52., 114., 215.,  40.,  52.,  15.,\n",
              "        11.,  15., 106.,  87., 113., 304.,  57., 304., 113., 113., 109.,\n",
              "        95.,  87.,  87., 113.,  86., 189., 304., 122.,  88.,  86.,   2.,\n",
              "       113., 106.,   2.,  86., 113., 194., 205., 113., 107., 109., 113.,\n",
              "       124., 113.,  46., 150.,  87., 113.,  87., 114.,  86., 113., 113.,\n",
              "        95., 113., 113., 113., 113., 222., 107., 214.,  86.,   8., 113.,\n",
              "       113.,  87.,  26., 170.,  15., 215., 107., 113.,  87.,  86.,  13.,\n",
              "       304., 112.,  15.,  86.,  52., 106., 113., 113., 215.,  33., 106.,\n",
              "       113.,  52., 304., 215.,  11., 113.,  11.,   4.,  87., 113., 106.,\n",
              "       113., 165.,  15., 113., 106.,  33.,  86., 113.,  11.,  86.,   5.,\n",
              "        11., 119., 113., 113.,   9.,  33.,  33., 113.,  85.,  33., 114.,\n",
              "        86.,   7.,  33., 113.,  15., 375., 113., 304., 113., 114., 107.,\n",
              "        87.,  11., 135.,  33.,   7.,  92.,  11.,  33., 113.,  86.,  74.,\n",
              "       215., 215., 214.,  15.,  85., 100.,  86.,  87.,  33.,  86., 113.,\n",
              "        86., 113., 304., 214.,  92., 113., 113.,  26.,  11.,  11., 100.,\n",
              "       100.,  86.,  33.,  74.,  86., 205., 113., 113., 100.,   7.,  11.,\n",
              "        88.,  87., 114., 215.,  33., 113., 113.,  14., 152.,  85.,  86.,\n",
              "        19., 214.,  92., 215., 375., 126., 215., 194.,  11., 113.,   9.,\n",
              "        86.,  11.,  71., 304., 189., 138.,  95., 113.,  74., 113.,   4.,\n",
              "        14., 304., 113.,  94., 107.,  33.,  95., 124., 127.,  86.,  86.,\n",
              "        87., 114.,  95., 127., 114., 126., 124., 113., 113.,  33., 135.,\n",
              "        95., 304., 138.,  95., 150.,  11.,  74., 109.,  33.,  90.,   8.,\n",
              "        72.,  33., 114., 113.,  94.,  57., 114., 113.,  74.,  33., 150.,\n",
              "        33., 106.,  13.,  11.,  33., 113.,  95., 113.,  92., 127., 113.,\n",
              "        15.,  87.,  90., 107.,  19.,  86.,  74., 106.,   5.,   9., 304.,\n",
              "        11., 120., 120.,  33., 120., 113., 127.,  33., 100.,  86., 120.,\n",
              "        20., 114., 216.])"
            ]
          },
          "metadata": {},
          "execution_count": 109
        }
      ]
    },
    {
      "cell_type": "code",
      "source": [
        "from sklearn.tree import DecisionTreeClassifier\n",
        "from sklearn.model_selection import train_test_split\n",
        "\n",
        "X = train_df.iloc[:, :-1]  # 30개 변수  -- iloc : 인덱스를 사용해서 dataframe의 행 출력\n",
        "y = train_df['count']   # target 변수 diagnosis \n",
        "\n",
        "# 데이터셋을 학습(train)과 테스트(test) 세트로 분할\n",
        "# random_state : random 으로 분할시 사용되는 난수 seed 숫자\n",
        "X_train, X_test, y_train, y_test = train_test_split(X, y, test_size = 0.25, random_state=42)\n",
        "\n",
        "# x는 독립변수 y는 종속변수, test_size의 default값은 0.25\n",
        "# 아래 train - test 들의 순서 중요 -- 그대로 작성하세요~\n",
        "X_train, X_test, y_train, y_test = train_test_split(X, y, test_size = 0.25, random_state=42) #max_depth 설정 안함\n",
        "\n",
        "tree = DecisionTreeClassifier(random_state=0)  \n",
        "tree.fit(X_train, y_train) # 학습 완료\n",
        "print(\"학습용 데이터 정확도: {:.3f}\".format(tree.score(X_train, y_train))) #overfitting 심함\n",
        "print(\"시험용 데이터 정확도: {:.3f}\".format(tree.score(X_test, y_test)))"
      ],
      "metadata": {
        "colab": {
          "base_uri": "https://localhost:8080/"
        },
        "id": "Ps4nI17aD-QV",
        "outputId": "dd925ace-2b17-42d7-e515-cca2d0b43946"
      },
      "execution_count": null,
      "outputs": [
        {
          "output_type": "stream",
          "name": "stdout",
          "text": [
            "학습용 데이터 정확도: 1.000\n",
            "시험용 데이터 정확도: 0.021\n"
          ]
        }
      ]
    },
    {
      "cell_type": "code",
      "source": [
        "# 의사결정나무의 깊이를 4로 제한하면 시험용 데이터에 대한 성능이 향상됨 (과적합을 줄임)\n",
        "# 과적합(overfitting): 학습용 데이터에 대해서만 성능이 좋고 새로운 데이터에 적용했을 경우에는 성능이 좋지 않은 경우\n",
        "tree = DecisionTreeClassifier(max_depth=4, random_state=0)\n",
        "tree.fit(X_train, y_train)\n",
        "\n",
        "print(\"학습용 데이터 정확도: {:.3f}\".format(tree.score(X_train, y_train)))\n",
        "print(\"시험용 데이터 정확도: {:.3f}\".format(tree.score(X_test, y_test)))"
      ],
      "metadata": {
        "colab": {
          "base_uri": "https://localhost:8080/"
        },
        "id": "HR9_l51CEsNU",
        "outputId": "171ce1c8-38b8-4ef9-f317-4a8b21cd2fe5"
      },
      "execution_count": null,
      "outputs": [
        {
          "output_type": "stream",
          "name": "stdout",
          "text": [
            "학습용 데이터 정확도: 0.060\n",
            "시험용 데이터 정확도: 0.015\n"
          ]
        }
      ]
    }
  ]
}