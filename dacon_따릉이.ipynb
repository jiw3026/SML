{
  "nbformat": 4,
  "nbformat_minor": 0,
  "metadata": {
    "colab": {
      "provenance": [],
      "authorship_tag": "ABX9TyP0/5JxKXyXDath+a+gZno4",
      "include_colab_link": true
    },
    "kernelspec": {
      "name": "python3",
      "display_name": "Python 3"
    },
    "language_info": {
      "name": "python"
    }
  },
  "cells": [
    {
      "cell_type": "markdown",
      "metadata": {
        "id": "view-in-github",
        "colab_type": "text"
      },
      "source": [
        "<a href=\"https://colab.research.google.com/github/jiw3026/SML/blob/main/dacon_%EB%94%B0%EB%A6%89%EC%9D%B4.ipynb\" target=\"_parent\"><img src=\"https://colab.research.google.com/assets/colab-badge.svg\" alt=\"Open In Colab\"/></a>"
      ]
    },
    {
      "cell_type": "code",
      "source": [
        "import pandas as pd"
      ],
      "metadata": {
        "id": "IaX03TpHDJz3"
      },
      "execution_count": 43,
      "outputs": []
    },
    {
      "cell_type": "code",
      "source": [
        "train=pd.read_csv('/content/drive/MyDrive/dacon/train.csv')"
      ],
      "metadata": {
        "id": "vMm5GdrpDbim"
      },
      "execution_count": 44,
      "outputs": []
    },
    {
      "cell_type": "code",
      "execution_count": 45,
      "metadata": {
        "colab": {
          "base_uri": "https://localhost:8080/"
        },
        "id": "xKkLS3goDI9n",
        "outputId": "d1e388cd-dc41-44ca-b394-47c8ecada544"
      },
      "outputs": [
        {
          "output_type": "stream",
          "name": "stdout",
          "text": [
            "Drive already mounted at /content/drive; to attempt to forcibly remount, call drive.mount(\"/content/drive\", force_remount=True).\n"
          ]
        }
      ],
      "source": [
        "from google.colab import drive\n",
        "drive.mount('/content/drive')"
      ]
    },
    {
      "cell_type": "code",
      "source": [
        "train.head()"
      ],
      "metadata": {
        "colab": {
          "base_uri": "https://localhost:8080/",
          "height": 206
        },
        "id": "4D97gc05D87y",
        "outputId": "3d9b8e45-02ed-4888-82ad-d24b987529bd"
      },
      "execution_count": 46,
      "outputs": [
        {
          "output_type": "execute_result",
          "data": {
            "text/plain": [
              "   id  hour  hour_bef_temperature  hour_bef_precipitation  hour_bef_windspeed  \\\n",
              "0   3    20                  16.3                     1.0                 1.5   \n",
              "1   6    13                  20.1                     0.0                 1.4   \n",
              "2   7     6                  13.9                     0.0                 0.7   \n",
              "3   8    23                   8.1                     0.0                 2.7   \n",
              "4   9    18                  29.5                     0.0                 4.8   \n",
              "\n",
              "   hour_bef_humidity  hour_bef_visibility  hour_bef_ozone  hour_bef_pm10  \\\n",
              "0               89.0                576.0           0.027           76.0   \n",
              "1               48.0                916.0           0.042           73.0   \n",
              "2               79.0               1382.0           0.033           32.0   \n",
              "3               54.0                946.0           0.040           75.0   \n",
              "4                7.0               2000.0           0.057           27.0   \n",
              "\n",
              "   hour_bef_pm2.5  count  \n",
              "0            33.0   49.0  \n",
              "1            40.0  159.0  \n",
              "2            19.0   26.0  \n",
              "3            64.0   57.0  \n",
              "4            11.0  431.0  "
            ],
            "text/html": [
              "\n",
              "  <div id=\"df-08cb0470-a141-4316-9939-587c39b8e50b\">\n",
              "    <div class=\"colab-df-container\">\n",
              "      <div>\n",
              "<style scoped>\n",
              "    .dataframe tbody tr th:only-of-type {\n",
              "        vertical-align: middle;\n",
              "    }\n",
              "\n",
              "    .dataframe tbody tr th {\n",
              "        vertical-align: top;\n",
              "    }\n",
              "\n",
              "    .dataframe thead th {\n",
              "        text-align: right;\n",
              "    }\n",
              "</style>\n",
              "<table border=\"1\" class=\"dataframe\">\n",
              "  <thead>\n",
              "    <tr style=\"text-align: right;\">\n",
              "      <th></th>\n",
              "      <th>id</th>\n",
              "      <th>hour</th>\n",
              "      <th>hour_bef_temperature</th>\n",
              "      <th>hour_bef_precipitation</th>\n",
              "      <th>hour_bef_windspeed</th>\n",
              "      <th>hour_bef_humidity</th>\n",
              "      <th>hour_bef_visibility</th>\n",
              "      <th>hour_bef_ozone</th>\n",
              "      <th>hour_bef_pm10</th>\n",
              "      <th>hour_bef_pm2.5</th>\n",
              "      <th>count</th>\n",
              "    </tr>\n",
              "  </thead>\n",
              "  <tbody>\n",
              "    <tr>\n",
              "      <th>0</th>\n",
              "      <td>3</td>\n",
              "      <td>20</td>\n",
              "      <td>16.3</td>\n",
              "      <td>1.0</td>\n",
              "      <td>1.5</td>\n",
              "      <td>89.0</td>\n",
              "      <td>576.0</td>\n",
              "      <td>0.027</td>\n",
              "      <td>76.0</td>\n",
              "      <td>33.0</td>\n",
              "      <td>49.0</td>\n",
              "    </tr>\n",
              "    <tr>\n",
              "      <th>1</th>\n",
              "      <td>6</td>\n",
              "      <td>13</td>\n",
              "      <td>20.1</td>\n",
              "      <td>0.0</td>\n",
              "      <td>1.4</td>\n",
              "      <td>48.0</td>\n",
              "      <td>916.0</td>\n",
              "      <td>0.042</td>\n",
              "      <td>73.0</td>\n",
              "      <td>40.0</td>\n",
              "      <td>159.0</td>\n",
              "    </tr>\n",
              "    <tr>\n",
              "      <th>2</th>\n",
              "      <td>7</td>\n",
              "      <td>6</td>\n",
              "      <td>13.9</td>\n",
              "      <td>0.0</td>\n",
              "      <td>0.7</td>\n",
              "      <td>79.0</td>\n",
              "      <td>1382.0</td>\n",
              "      <td>0.033</td>\n",
              "      <td>32.0</td>\n",
              "      <td>19.0</td>\n",
              "      <td>26.0</td>\n",
              "    </tr>\n",
              "    <tr>\n",
              "      <th>3</th>\n",
              "      <td>8</td>\n",
              "      <td>23</td>\n",
              "      <td>8.1</td>\n",
              "      <td>0.0</td>\n",
              "      <td>2.7</td>\n",
              "      <td>54.0</td>\n",
              "      <td>946.0</td>\n",
              "      <td>0.040</td>\n",
              "      <td>75.0</td>\n",
              "      <td>64.0</td>\n",
              "      <td>57.0</td>\n",
              "    </tr>\n",
              "    <tr>\n",
              "      <th>4</th>\n",
              "      <td>9</td>\n",
              "      <td>18</td>\n",
              "      <td>29.5</td>\n",
              "      <td>0.0</td>\n",
              "      <td>4.8</td>\n",
              "      <td>7.0</td>\n",
              "      <td>2000.0</td>\n",
              "      <td>0.057</td>\n",
              "      <td>27.0</td>\n",
              "      <td>11.0</td>\n",
              "      <td>431.0</td>\n",
              "    </tr>\n",
              "  </tbody>\n",
              "</table>\n",
              "</div>\n",
              "      <button class=\"colab-df-convert\" onclick=\"convertToInteractive('df-08cb0470-a141-4316-9939-587c39b8e50b')\"\n",
              "              title=\"Convert this dataframe to an interactive table.\"\n",
              "              style=\"display:none;\">\n",
              "        \n",
              "  <svg xmlns=\"http://www.w3.org/2000/svg\" height=\"24px\"viewBox=\"0 0 24 24\"\n",
              "       width=\"24px\">\n",
              "    <path d=\"M0 0h24v24H0V0z\" fill=\"none\"/>\n",
              "    <path d=\"M18.56 5.44l.94 2.06.94-2.06 2.06-.94-2.06-.94-.94-2.06-.94 2.06-2.06.94zm-11 1L8.5 8.5l.94-2.06 2.06-.94-2.06-.94L8.5 2.5l-.94 2.06-2.06.94zm10 10l.94 2.06.94-2.06 2.06-.94-2.06-.94-.94-2.06-.94 2.06-2.06.94z\"/><path d=\"M17.41 7.96l-1.37-1.37c-.4-.4-.92-.59-1.43-.59-.52 0-1.04.2-1.43.59L10.3 9.45l-7.72 7.72c-.78.78-.78 2.05 0 2.83L4 21.41c.39.39.9.59 1.41.59.51 0 1.02-.2 1.41-.59l7.78-7.78 2.81-2.81c.8-.78.8-2.07 0-2.86zM5.41 20L4 18.59l7.72-7.72 1.47 1.35L5.41 20z\"/>\n",
              "  </svg>\n",
              "      </button>\n",
              "      \n",
              "  <style>\n",
              "    .colab-df-container {\n",
              "      display:flex;\n",
              "      flex-wrap:wrap;\n",
              "      gap: 12px;\n",
              "    }\n",
              "\n",
              "    .colab-df-convert {\n",
              "      background-color: #E8F0FE;\n",
              "      border: none;\n",
              "      border-radius: 50%;\n",
              "      cursor: pointer;\n",
              "      display: none;\n",
              "      fill: #1967D2;\n",
              "      height: 32px;\n",
              "      padding: 0 0 0 0;\n",
              "      width: 32px;\n",
              "    }\n",
              "\n",
              "    .colab-df-convert:hover {\n",
              "      background-color: #E2EBFA;\n",
              "      box-shadow: 0px 1px 2px rgba(60, 64, 67, 0.3), 0px 1px 3px 1px rgba(60, 64, 67, 0.15);\n",
              "      fill: #174EA6;\n",
              "    }\n",
              "\n",
              "    [theme=dark] .colab-df-convert {\n",
              "      background-color: #3B4455;\n",
              "      fill: #D2E3FC;\n",
              "    }\n",
              "\n",
              "    [theme=dark] .colab-df-convert:hover {\n",
              "      background-color: #434B5C;\n",
              "      box-shadow: 0px 1px 3px 1px rgba(0, 0, 0, 0.15);\n",
              "      filter: drop-shadow(0px 1px 2px rgba(0, 0, 0, 0.3));\n",
              "      fill: #FFFFFF;\n",
              "    }\n",
              "  </style>\n",
              "\n",
              "      <script>\n",
              "        const buttonEl =\n",
              "          document.querySelector('#df-08cb0470-a141-4316-9939-587c39b8e50b button.colab-df-convert');\n",
              "        buttonEl.style.display =\n",
              "          google.colab.kernel.accessAllowed ? 'block' : 'none';\n",
              "\n",
              "        async function convertToInteractive(key) {\n",
              "          const element = document.querySelector('#df-08cb0470-a141-4316-9939-587c39b8e50b');\n",
              "          const dataTable =\n",
              "            await google.colab.kernel.invokeFunction('convertToInteractive',\n",
              "                                                     [key], {});\n",
              "          if (!dataTable) return;\n",
              "\n",
              "          const docLinkHtml = 'Like what you see? Visit the ' +\n",
              "            '<a target=\"_blank\" href=https://colab.research.google.com/notebooks/data_table.ipynb>data table notebook</a>'\n",
              "            + ' to learn more about interactive tables.';\n",
              "          element.innerHTML = '';\n",
              "          dataTable['output_type'] = 'display_data';\n",
              "          await google.colab.output.renderOutput(dataTable, element);\n",
              "          const docLink = document.createElement('div');\n",
              "          docLink.innerHTML = docLinkHtml;\n",
              "          element.appendChild(docLink);\n",
              "        }\n",
              "      </script>\n",
              "    </div>\n",
              "  </div>\n",
              "  "
            ]
          },
          "metadata": {},
          "execution_count": 46
        }
      ]
    },
    {
      "cell_type": "code",
      "source": [
        "test=pd.read_csv('/content/drive/MyDrive/dacon/test.csv')"
      ],
      "metadata": {
        "id": "3aaY0GTiD_Ho"
      },
      "execution_count": 47,
      "outputs": []
    },
    {
      "cell_type": "code",
      "source": [
        "test.head()"
      ],
      "metadata": {
        "colab": {
          "base_uri": "https://localhost:8080/",
          "height": 206
        },
        "id": "lgT8slnnELi3",
        "outputId": "43c92f9b-d0f2-47c6-ae3e-44ce81ed7686"
      },
      "execution_count": 48,
      "outputs": [
        {
          "output_type": "execute_result",
          "data": {
            "text/plain": [
              "   id  hour  hour_bef_temperature  hour_bef_precipitation  hour_bef_windspeed  \\\n",
              "0   0     7                  20.7                     0.0                 1.3   \n",
              "1   1    17                  30.0                     0.0                 5.4   \n",
              "2   2    13                  19.0                     1.0                 2.1   \n",
              "3   4     6                  22.5                     0.0                 2.5   \n",
              "4   5    22                  14.6                     1.0                 3.4   \n",
              "\n",
              "   hour_bef_humidity  hour_bef_visibility  hour_bef_ozone  hour_bef_pm10  \\\n",
              "0               62.0                954.0           0.041           44.0   \n",
              "1               33.0               1590.0           0.061           49.0   \n",
              "2               95.0                193.0           0.020           36.0   \n",
              "3               60.0               1185.0           0.027           52.0   \n",
              "4               93.0                218.0           0.041           18.0   \n",
              "\n",
              "   hour_bef_pm2.5  \n",
              "0            27.0  \n",
              "1            36.0  \n",
              "2            28.0  \n",
              "3            38.0  \n",
              "4            15.0  "
            ],
            "text/html": [
              "\n",
              "  <div id=\"df-448dbd46-d604-46b8-b4e0-fbf8b5ee9900\">\n",
              "    <div class=\"colab-df-container\">\n",
              "      <div>\n",
              "<style scoped>\n",
              "    .dataframe tbody tr th:only-of-type {\n",
              "        vertical-align: middle;\n",
              "    }\n",
              "\n",
              "    .dataframe tbody tr th {\n",
              "        vertical-align: top;\n",
              "    }\n",
              "\n",
              "    .dataframe thead th {\n",
              "        text-align: right;\n",
              "    }\n",
              "</style>\n",
              "<table border=\"1\" class=\"dataframe\">\n",
              "  <thead>\n",
              "    <tr style=\"text-align: right;\">\n",
              "      <th></th>\n",
              "      <th>id</th>\n",
              "      <th>hour</th>\n",
              "      <th>hour_bef_temperature</th>\n",
              "      <th>hour_bef_precipitation</th>\n",
              "      <th>hour_bef_windspeed</th>\n",
              "      <th>hour_bef_humidity</th>\n",
              "      <th>hour_bef_visibility</th>\n",
              "      <th>hour_bef_ozone</th>\n",
              "      <th>hour_bef_pm10</th>\n",
              "      <th>hour_bef_pm2.5</th>\n",
              "    </tr>\n",
              "  </thead>\n",
              "  <tbody>\n",
              "    <tr>\n",
              "      <th>0</th>\n",
              "      <td>0</td>\n",
              "      <td>7</td>\n",
              "      <td>20.7</td>\n",
              "      <td>0.0</td>\n",
              "      <td>1.3</td>\n",
              "      <td>62.0</td>\n",
              "      <td>954.0</td>\n",
              "      <td>0.041</td>\n",
              "      <td>44.0</td>\n",
              "      <td>27.0</td>\n",
              "    </tr>\n",
              "    <tr>\n",
              "      <th>1</th>\n",
              "      <td>1</td>\n",
              "      <td>17</td>\n",
              "      <td>30.0</td>\n",
              "      <td>0.0</td>\n",
              "      <td>5.4</td>\n",
              "      <td>33.0</td>\n",
              "      <td>1590.0</td>\n",
              "      <td>0.061</td>\n",
              "      <td>49.0</td>\n",
              "      <td>36.0</td>\n",
              "    </tr>\n",
              "    <tr>\n",
              "      <th>2</th>\n",
              "      <td>2</td>\n",
              "      <td>13</td>\n",
              "      <td>19.0</td>\n",
              "      <td>1.0</td>\n",
              "      <td>2.1</td>\n",
              "      <td>95.0</td>\n",
              "      <td>193.0</td>\n",
              "      <td>0.020</td>\n",
              "      <td>36.0</td>\n",
              "      <td>28.0</td>\n",
              "    </tr>\n",
              "    <tr>\n",
              "      <th>3</th>\n",
              "      <td>4</td>\n",
              "      <td>6</td>\n",
              "      <td>22.5</td>\n",
              "      <td>0.0</td>\n",
              "      <td>2.5</td>\n",
              "      <td>60.0</td>\n",
              "      <td>1185.0</td>\n",
              "      <td>0.027</td>\n",
              "      <td>52.0</td>\n",
              "      <td>38.0</td>\n",
              "    </tr>\n",
              "    <tr>\n",
              "      <th>4</th>\n",
              "      <td>5</td>\n",
              "      <td>22</td>\n",
              "      <td>14.6</td>\n",
              "      <td>1.0</td>\n",
              "      <td>3.4</td>\n",
              "      <td>93.0</td>\n",
              "      <td>218.0</td>\n",
              "      <td>0.041</td>\n",
              "      <td>18.0</td>\n",
              "      <td>15.0</td>\n",
              "    </tr>\n",
              "  </tbody>\n",
              "</table>\n",
              "</div>\n",
              "      <button class=\"colab-df-convert\" onclick=\"convertToInteractive('df-448dbd46-d604-46b8-b4e0-fbf8b5ee9900')\"\n",
              "              title=\"Convert this dataframe to an interactive table.\"\n",
              "              style=\"display:none;\">\n",
              "        \n",
              "  <svg xmlns=\"http://www.w3.org/2000/svg\" height=\"24px\"viewBox=\"0 0 24 24\"\n",
              "       width=\"24px\">\n",
              "    <path d=\"M0 0h24v24H0V0z\" fill=\"none\"/>\n",
              "    <path d=\"M18.56 5.44l.94 2.06.94-2.06 2.06-.94-2.06-.94-.94-2.06-.94 2.06-2.06.94zm-11 1L8.5 8.5l.94-2.06 2.06-.94-2.06-.94L8.5 2.5l-.94 2.06-2.06.94zm10 10l.94 2.06.94-2.06 2.06-.94-2.06-.94-.94-2.06-.94 2.06-2.06.94z\"/><path d=\"M17.41 7.96l-1.37-1.37c-.4-.4-.92-.59-1.43-.59-.52 0-1.04.2-1.43.59L10.3 9.45l-7.72 7.72c-.78.78-.78 2.05 0 2.83L4 21.41c.39.39.9.59 1.41.59.51 0 1.02-.2 1.41-.59l7.78-7.78 2.81-2.81c.8-.78.8-2.07 0-2.86zM5.41 20L4 18.59l7.72-7.72 1.47 1.35L5.41 20z\"/>\n",
              "  </svg>\n",
              "      </button>\n",
              "      \n",
              "  <style>\n",
              "    .colab-df-container {\n",
              "      display:flex;\n",
              "      flex-wrap:wrap;\n",
              "      gap: 12px;\n",
              "    }\n",
              "\n",
              "    .colab-df-convert {\n",
              "      background-color: #E8F0FE;\n",
              "      border: none;\n",
              "      border-radius: 50%;\n",
              "      cursor: pointer;\n",
              "      display: none;\n",
              "      fill: #1967D2;\n",
              "      height: 32px;\n",
              "      padding: 0 0 0 0;\n",
              "      width: 32px;\n",
              "    }\n",
              "\n",
              "    .colab-df-convert:hover {\n",
              "      background-color: #E2EBFA;\n",
              "      box-shadow: 0px 1px 2px rgba(60, 64, 67, 0.3), 0px 1px 3px 1px rgba(60, 64, 67, 0.15);\n",
              "      fill: #174EA6;\n",
              "    }\n",
              "\n",
              "    [theme=dark] .colab-df-convert {\n",
              "      background-color: #3B4455;\n",
              "      fill: #D2E3FC;\n",
              "    }\n",
              "\n",
              "    [theme=dark] .colab-df-convert:hover {\n",
              "      background-color: #434B5C;\n",
              "      box-shadow: 0px 1px 3px 1px rgba(0, 0, 0, 0.15);\n",
              "      filter: drop-shadow(0px 1px 2px rgba(0, 0, 0, 0.3));\n",
              "      fill: #FFFFFF;\n",
              "    }\n",
              "  </style>\n",
              "\n",
              "      <script>\n",
              "        const buttonEl =\n",
              "          document.querySelector('#df-448dbd46-d604-46b8-b4e0-fbf8b5ee9900 button.colab-df-convert');\n",
              "        buttonEl.style.display =\n",
              "          google.colab.kernel.accessAllowed ? 'block' : 'none';\n",
              "\n",
              "        async function convertToInteractive(key) {\n",
              "          const element = document.querySelector('#df-448dbd46-d604-46b8-b4e0-fbf8b5ee9900');\n",
              "          const dataTable =\n",
              "            await google.colab.kernel.invokeFunction('convertToInteractive',\n",
              "                                                     [key], {});\n",
              "          if (!dataTable) return;\n",
              "\n",
              "          const docLinkHtml = 'Like what you see? Visit the ' +\n",
              "            '<a target=\"_blank\" href=https://colab.research.google.com/notebooks/data_table.ipynb>data table notebook</a>'\n",
              "            + ' to learn more about interactive tables.';\n",
              "          element.innerHTML = '';\n",
              "          dataTable['output_type'] = 'display_data';\n",
              "          await google.colab.output.renderOutput(dataTable, element);\n",
              "          const docLink = document.createElement('div');\n",
              "          docLink.innerHTML = docLinkHtml;\n",
              "          element.appendChild(docLink);\n",
              "        }\n",
              "      </script>\n",
              "    </div>\n",
              "  </div>\n",
              "  "
            ]
          },
          "metadata": {},
          "execution_count": 48
        }
      ]
    },
    {
      "cell_type": "code",
      "source": [
        "train.info()"
      ],
      "metadata": {
        "colab": {
          "base_uri": "https://localhost:8080/"
        },
        "id": "YvsWALdjEMxI",
        "outputId": "8f76bb23-0d0f-49b1-fbc1-8bc3c60046ad"
      },
      "execution_count": 49,
      "outputs": [
        {
          "output_type": "stream",
          "name": "stdout",
          "text": [
            "<class 'pandas.core.frame.DataFrame'>\n",
            "RangeIndex: 1459 entries, 0 to 1458\n",
            "Data columns (total 11 columns):\n",
            " #   Column                  Non-Null Count  Dtype  \n",
            "---  ------                  --------------  -----  \n",
            " 0   id                      1459 non-null   int64  \n",
            " 1   hour                    1459 non-null   int64  \n",
            " 2   hour_bef_temperature    1457 non-null   float64\n",
            " 3   hour_bef_precipitation  1457 non-null   float64\n",
            " 4   hour_bef_windspeed      1450 non-null   float64\n",
            " 5   hour_bef_humidity       1457 non-null   float64\n",
            " 6   hour_bef_visibility     1457 non-null   float64\n",
            " 7   hour_bef_ozone          1383 non-null   float64\n",
            " 8   hour_bef_pm10           1369 non-null   float64\n",
            " 9   hour_bef_pm2.5          1342 non-null   float64\n",
            " 10  count                   1459 non-null   float64\n",
            "dtypes: float64(9), int64(2)\n",
            "memory usage: 125.5 KB\n"
          ]
        }
      ]
    },
    {
      "cell_type": "code",
      "source": [
        "train.isnull().sum()"
      ],
      "metadata": {
        "colab": {
          "base_uri": "https://localhost:8080/"
        },
        "id": "NZTU6eCcEU6J",
        "outputId": "d238e2ed-5968-4d5a-ef07-1a346be8ed86"
      },
      "execution_count": 50,
      "outputs": [
        {
          "output_type": "execute_result",
          "data": {
            "text/plain": [
              "id                          0\n",
              "hour                        0\n",
              "hour_bef_temperature        2\n",
              "hour_bef_precipitation      2\n",
              "hour_bef_windspeed          9\n",
              "hour_bef_humidity           2\n",
              "hour_bef_visibility         2\n",
              "hour_bef_ozone             76\n",
              "hour_bef_pm10              90\n",
              "hour_bef_pm2.5            117\n",
              "count                       0\n",
              "dtype: int64"
            ]
          },
          "metadata": {},
          "execution_count": 50
        }
      ]
    },
    {
      "cell_type": "code",
      "source": [
        "test.isnull().sum()"
      ],
      "metadata": {
        "colab": {
          "base_uri": "https://localhost:8080/"
        },
        "id": "FaPcSxGLEaBX",
        "outputId": "b8c13c9f-65f8-407c-f770-078a4f3602de"
      },
      "execution_count": 51,
      "outputs": [
        {
          "output_type": "execute_result",
          "data": {
            "text/plain": [
              "id                         0\n",
              "hour                       0\n",
              "hour_bef_temperature       1\n",
              "hour_bef_precipitation     1\n",
              "hour_bef_windspeed         1\n",
              "hour_bef_humidity          1\n",
              "hour_bef_visibility        1\n",
              "hour_bef_ozone            35\n",
              "hour_bef_pm10             37\n",
              "hour_bef_pm2.5            36\n",
              "dtype: int64"
            ]
          },
          "metadata": {},
          "execution_count": 51
        }
      ]
    },
    {
      "cell_type": "code",
      "source": [
        "train.fillna(0, inplace=True)\n",
        "test.fillna(0, inplace=True)"
      ],
      "metadata": {
        "id": "nrpPNY9zEdKC"
      },
      "execution_count": 52,
      "outputs": []
    },
    {
      "cell_type": "code",
      "source": [
        "train_x=train.drop(['count'], axis=1)\n",
        "train_y=train['count']"
      ],
      "metadata": {
        "id": "z2VEifl6Ei4w"
      },
      "execution_count": 53,
      "outputs": []
    },
    {
      "cell_type": "code",
      "source": [
        "submission=pd.read_csv('/content/drive/MyDrive/dacon/submission.csv')"
      ],
      "metadata": {
        "id": "y3Hw1EDxFTlY"
      },
      "execution_count": 54,
      "outputs": []
    },
    {
      "cell_type": "code",
      "source": [
        "train.shape"
      ],
      "metadata": {
        "colab": {
          "base_uri": "https://localhost:8080/"
        },
        "id": "OYEqQVAl85Kd",
        "outputId": "fb7295eb-5273-418f-dab2-b7be549627b7"
      },
      "execution_count": 55,
      "outputs": [
        {
          "output_type": "execute_result",
          "data": {
            "text/plain": [
              "(1459, 11)"
            ]
          },
          "metadata": {},
          "execution_count": 55
        }
      ]
    },
    {
      "cell_type": "code",
      "source": [
        "train.info()"
      ],
      "metadata": {
        "colab": {
          "base_uri": "https://localhost:8080/"
        },
        "id": "EePjh68z94E0",
        "outputId": "edf7bec7-3e2d-4ad2-ea11-0b1bf12fe664"
      },
      "execution_count": 56,
      "outputs": [
        {
          "output_type": "stream",
          "name": "stdout",
          "text": [
            "<class 'pandas.core.frame.DataFrame'>\n",
            "RangeIndex: 1459 entries, 0 to 1458\n",
            "Data columns (total 11 columns):\n",
            " #   Column                  Non-Null Count  Dtype  \n",
            "---  ------                  --------------  -----  \n",
            " 0   id                      1459 non-null   int64  \n",
            " 1   hour                    1459 non-null   int64  \n",
            " 2   hour_bef_temperature    1459 non-null   float64\n",
            " 3   hour_bef_precipitation  1459 non-null   float64\n",
            " 4   hour_bef_windspeed      1459 non-null   float64\n",
            " 5   hour_bef_humidity       1459 non-null   float64\n",
            " 6   hour_bef_visibility     1459 non-null   float64\n",
            " 7   hour_bef_ozone          1459 non-null   float64\n",
            " 8   hour_bef_pm10           1459 non-null   float64\n",
            " 9   hour_bef_pm2.5          1459 non-null   float64\n",
            " 10  count                   1459 non-null   float64\n",
            "dtypes: float64(9), int64(2)\n",
            "memory usage: 125.5 KB\n"
          ]
        }
      ]
    },
    {
      "cell_type": "code",
      "source": [
        "test.info()"
      ],
      "metadata": {
        "colab": {
          "base_uri": "https://localhost:8080/"
        },
        "id": "oi7RoQNc9520",
        "outputId": "45a78b6e-a920-418d-ed16-f2e2d562c379"
      },
      "execution_count": 57,
      "outputs": [
        {
          "output_type": "stream",
          "name": "stdout",
          "text": [
            "<class 'pandas.core.frame.DataFrame'>\n",
            "RangeIndex: 715 entries, 0 to 714\n",
            "Data columns (total 10 columns):\n",
            " #   Column                  Non-Null Count  Dtype  \n",
            "---  ------                  --------------  -----  \n",
            " 0   id                      715 non-null    int64  \n",
            " 1   hour                    715 non-null    int64  \n",
            " 2   hour_bef_temperature    715 non-null    float64\n",
            " 3   hour_bef_precipitation  715 non-null    float64\n",
            " 4   hour_bef_windspeed      715 non-null    float64\n",
            " 5   hour_bef_humidity       715 non-null    float64\n",
            " 6   hour_bef_visibility     715 non-null    float64\n",
            " 7   hour_bef_ozone          715 non-null    float64\n",
            " 8   hour_bef_pm10           715 non-null    float64\n",
            " 9   hour_bef_pm2.5          715 non-null    float64\n",
            "dtypes: float64(8), int64(2)\n",
            "memory usage: 56.0 KB\n"
          ]
        }
      ]
    },
    {
      "cell_type": "code",
      "source": [
        "test.shape"
      ],
      "metadata": {
        "colab": {
          "base_uri": "https://localhost:8080/"
        },
        "id": "zYD9e67e-gLA",
        "outputId": "a5d95ff5-4b1b-46e8-a855-27bc01adc862"
      },
      "execution_count": 58,
      "outputs": [
        {
          "output_type": "execute_result",
          "data": {
            "text/plain": [
              "(715, 10)"
            ]
          },
          "metadata": {},
          "execution_count": 58
        }
      ]
    },
    {
      "cell_type": "code",
      "source": [
        "train.isnull().sum()"
      ],
      "metadata": {
        "colab": {
          "base_uri": "https://localhost:8080/"
        },
        "id": "s76aVqWS-j7p",
        "outputId": "086cfc1f-0761-494b-bfdf-8fd42c10c621"
      },
      "execution_count": 59,
      "outputs": [
        {
          "output_type": "execute_result",
          "data": {
            "text/plain": [
              "id                        0\n",
              "hour                      0\n",
              "hour_bef_temperature      0\n",
              "hour_bef_precipitation    0\n",
              "hour_bef_windspeed        0\n",
              "hour_bef_humidity         0\n",
              "hour_bef_visibility       0\n",
              "hour_bef_ozone            0\n",
              "hour_bef_pm10             0\n",
              "hour_bef_pm2.5            0\n",
              "count                     0\n",
              "dtype: int64"
            ]
          },
          "metadata": {},
          "execution_count": 59
        }
      ]
    },
    {
      "cell_type": "code",
      "source": [
        "test.isnull().sum()"
      ],
      "metadata": {
        "colab": {
          "base_uri": "https://localhost:8080/"
        },
        "id": "I1ydyQpd-8WI",
        "outputId": "112ed1f0-b88b-4348-ffbd-0d24f458c0e0"
      },
      "execution_count": 60,
      "outputs": [
        {
          "output_type": "execute_result",
          "data": {
            "text/plain": [
              "id                        0\n",
              "hour                      0\n",
              "hour_bef_temperature      0\n",
              "hour_bef_precipitation    0\n",
              "hour_bef_windspeed        0\n",
              "hour_bef_humidity         0\n",
              "hour_bef_visibility       0\n",
              "hour_bef_ozone            0\n",
              "hour_bef_pm10             0\n",
              "hour_bef_pm2.5            0\n",
              "dtype: int64"
            ]
          },
          "metadata": {},
          "execution_count": 60
        }
      ]
    },
    {
      "cell_type": "code",
      "source": [
        "train.describe()"
      ],
      "metadata": {
        "colab": {
          "base_uri": "https://localhost:8080/",
          "height": 364
        },
        "id": "guyJhVEc--sT",
        "outputId": "41381aaa-4741-4e09-b23f-f8731abb7724"
      },
      "execution_count": 61,
      "outputs": [
        {
          "output_type": "execute_result",
          "data": {
            "text/plain": [
              "                id         hour  hour_bef_temperature  hour_bef_precipitation  \\\n",
              "count  1459.000000  1459.000000           1459.000000             1459.000000   \n",
              "mean   1105.914325    11.493489             16.694517                0.031528   \n",
              "std     631.338681     6.922790              5.271990                0.174801   \n",
              "min       3.000000     0.000000              0.000000                0.000000   \n",
              "25%     555.500000     5.500000             12.800000                0.000000   \n",
              "50%    1115.000000    11.000000             16.600000                0.000000   \n",
              "75%    1651.000000    17.500000             20.050000                0.000000   \n",
              "max    2179.000000    23.000000             30.000000                1.000000   \n",
              "\n",
              "       hour_bef_windspeed  hour_bef_humidity  hour_bef_visibility  \\\n",
              "count         1459.000000        1459.000000          1459.000000   \n",
              "mean             2.463742          52.159698          1403.290610   \n",
              "std              1.387657          20.447997           585.047959   \n",
              "min              0.000000           0.000000             0.000000   \n",
              "25%              1.400000          36.000000           877.500000   \n",
              "50%              2.300000          51.000000          1576.000000   \n",
              "75%              3.400000          68.500000          1994.000000   \n",
              "max              8.000000          99.000000          2000.000000   \n",
              "\n",
              "       hour_bef_ozone  hour_bef_pm10  hour_bef_pm2.5        count  \n",
              "count     1459.000000    1459.000000     1459.000000  1459.000000  \n",
              "mean         0.037110      53.642221       27.895134   108.563400  \n",
              "std          0.020893      33.710370       16.339987    82.631733  \n",
              "min          0.000000       0.000000        0.000000     1.000000  \n",
              "25%          0.022000      33.000000       19.000000    37.000000  \n",
              "50%          0.037000      49.000000       25.000000    96.000000  \n",
              "75%          0.051000      68.000000       36.000000   150.000000  \n",
              "max          0.125000     269.000000       90.000000   431.000000  "
            ],
            "text/html": [
              "\n",
              "  <div id=\"df-80c587fd-7c30-4962-98d9-1fff656b45b9\">\n",
              "    <div class=\"colab-df-container\">\n",
              "      <div>\n",
              "<style scoped>\n",
              "    .dataframe tbody tr th:only-of-type {\n",
              "        vertical-align: middle;\n",
              "    }\n",
              "\n",
              "    .dataframe tbody tr th {\n",
              "        vertical-align: top;\n",
              "    }\n",
              "\n",
              "    .dataframe thead th {\n",
              "        text-align: right;\n",
              "    }\n",
              "</style>\n",
              "<table border=\"1\" class=\"dataframe\">\n",
              "  <thead>\n",
              "    <tr style=\"text-align: right;\">\n",
              "      <th></th>\n",
              "      <th>id</th>\n",
              "      <th>hour</th>\n",
              "      <th>hour_bef_temperature</th>\n",
              "      <th>hour_bef_precipitation</th>\n",
              "      <th>hour_bef_windspeed</th>\n",
              "      <th>hour_bef_humidity</th>\n",
              "      <th>hour_bef_visibility</th>\n",
              "      <th>hour_bef_ozone</th>\n",
              "      <th>hour_bef_pm10</th>\n",
              "      <th>hour_bef_pm2.5</th>\n",
              "      <th>count</th>\n",
              "    </tr>\n",
              "  </thead>\n",
              "  <tbody>\n",
              "    <tr>\n",
              "      <th>count</th>\n",
              "      <td>1459.000000</td>\n",
              "      <td>1459.000000</td>\n",
              "      <td>1459.000000</td>\n",
              "      <td>1459.000000</td>\n",
              "      <td>1459.000000</td>\n",
              "      <td>1459.000000</td>\n",
              "      <td>1459.000000</td>\n",
              "      <td>1459.000000</td>\n",
              "      <td>1459.000000</td>\n",
              "      <td>1459.000000</td>\n",
              "      <td>1459.000000</td>\n",
              "    </tr>\n",
              "    <tr>\n",
              "      <th>mean</th>\n",
              "      <td>1105.914325</td>\n",
              "      <td>11.493489</td>\n",
              "      <td>16.694517</td>\n",
              "      <td>0.031528</td>\n",
              "      <td>2.463742</td>\n",
              "      <td>52.159698</td>\n",
              "      <td>1403.290610</td>\n",
              "      <td>0.037110</td>\n",
              "      <td>53.642221</td>\n",
              "      <td>27.895134</td>\n",
              "      <td>108.563400</td>\n",
              "    </tr>\n",
              "    <tr>\n",
              "      <th>std</th>\n",
              "      <td>631.338681</td>\n",
              "      <td>6.922790</td>\n",
              "      <td>5.271990</td>\n",
              "      <td>0.174801</td>\n",
              "      <td>1.387657</td>\n",
              "      <td>20.447997</td>\n",
              "      <td>585.047959</td>\n",
              "      <td>0.020893</td>\n",
              "      <td>33.710370</td>\n",
              "      <td>16.339987</td>\n",
              "      <td>82.631733</td>\n",
              "    </tr>\n",
              "    <tr>\n",
              "      <th>min</th>\n",
              "      <td>3.000000</td>\n",
              "      <td>0.000000</td>\n",
              "      <td>0.000000</td>\n",
              "      <td>0.000000</td>\n",
              "      <td>0.000000</td>\n",
              "      <td>0.000000</td>\n",
              "      <td>0.000000</td>\n",
              "      <td>0.000000</td>\n",
              "      <td>0.000000</td>\n",
              "      <td>0.000000</td>\n",
              "      <td>1.000000</td>\n",
              "    </tr>\n",
              "    <tr>\n",
              "      <th>25%</th>\n",
              "      <td>555.500000</td>\n",
              "      <td>5.500000</td>\n",
              "      <td>12.800000</td>\n",
              "      <td>0.000000</td>\n",
              "      <td>1.400000</td>\n",
              "      <td>36.000000</td>\n",
              "      <td>877.500000</td>\n",
              "      <td>0.022000</td>\n",
              "      <td>33.000000</td>\n",
              "      <td>19.000000</td>\n",
              "      <td>37.000000</td>\n",
              "    </tr>\n",
              "    <tr>\n",
              "      <th>50%</th>\n",
              "      <td>1115.000000</td>\n",
              "      <td>11.000000</td>\n",
              "      <td>16.600000</td>\n",
              "      <td>0.000000</td>\n",
              "      <td>2.300000</td>\n",
              "      <td>51.000000</td>\n",
              "      <td>1576.000000</td>\n",
              "      <td>0.037000</td>\n",
              "      <td>49.000000</td>\n",
              "      <td>25.000000</td>\n",
              "      <td>96.000000</td>\n",
              "    </tr>\n",
              "    <tr>\n",
              "      <th>75%</th>\n",
              "      <td>1651.000000</td>\n",
              "      <td>17.500000</td>\n",
              "      <td>20.050000</td>\n",
              "      <td>0.000000</td>\n",
              "      <td>3.400000</td>\n",
              "      <td>68.500000</td>\n",
              "      <td>1994.000000</td>\n",
              "      <td>0.051000</td>\n",
              "      <td>68.000000</td>\n",
              "      <td>36.000000</td>\n",
              "      <td>150.000000</td>\n",
              "    </tr>\n",
              "    <tr>\n",
              "      <th>max</th>\n",
              "      <td>2179.000000</td>\n",
              "      <td>23.000000</td>\n",
              "      <td>30.000000</td>\n",
              "      <td>1.000000</td>\n",
              "      <td>8.000000</td>\n",
              "      <td>99.000000</td>\n",
              "      <td>2000.000000</td>\n",
              "      <td>0.125000</td>\n",
              "      <td>269.000000</td>\n",
              "      <td>90.000000</td>\n",
              "      <td>431.000000</td>\n",
              "    </tr>\n",
              "  </tbody>\n",
              "</table>\n",
              "</div>\n",
              "      <button class=\"colab-df-convert\" onclick=\"convertToInteractive('df-80c587fd-7c30-4962-98d9-1fff656b45b9')\"\n",
              "              title=\"Convert this dataframe to an interactive table.\"\n",
              "              style=\"display:none;\">\n",
              "        \n",
              "  <svg xmlns=\"http://www.w3.org/2000/svg\" height=\"24px\"viewBox=\"0 0 24 24\"\n",
              "       width=\"24px\">\n",
              "    <path d=\"M0 0h24v24H0V0z\" fill=\"none\"/>\n",
              "    <path d=\"M18.56 5.44l.94 2.06.94-2.06 2.06-.94-2.06-.94-.94-2.06-.94 2.06-2.06.94zm-11 1L8.5 8.5l.94-2.06 2.06-.94-2.06-.94L8.5 2.5l-.94 2.06-2.06.94zm10 10l.94 2.06.94-2.06 2.06-.94-2.06-.94-.94-2.06-.94 2.06-2.06.94z\"/><path d=\"M17.41 7.96l-1.37-1.37c-.4-.4-.92-.59-1.43-.59-.52 0-1.04.2-1.43.59L10.3 9.45l-7.72 7.72c-.78.78-.78 2.05 0 2.83L4 21.41c.39.39.9.59 1.41.59.51 0 1.02-.2 1.41-.59l7.78-7.78 2.81-2.81c.8-.78.8-2.07 0-2.86zM5.41 20L4 18.59l7.72-7.72 1.47 1.35L5.41 20z\"/>\n",
              "  </svg>\n",
              "      </button>\n",
              "      \n",
              "  <style>\n",
              "    .colab-df-container {\n",
              "      display:flex;\n",
              "      flex-wrap:wrap;\n",
              "      gap: 12px;\n",
              "    }\n",
              "\n",
              "    .colab-df-convert {\n",
              "      background-color: #E8F0FE;\n",
              "      border: none;\n",
              "      border-radius: 50%;\n",
              "      cursor: pointer;\n",
              "      display: none;\n",
              "      fill: #1967D2;\n",
              "      height: 32px;\n",
              "      padding: 0 0 0 0;\n",
              "      width: 32px;\n",
              "    }\n",
              "\n",
              "    .colab-df-convert:hover {\n",
              "      background-color: #E2EBFA;\n",
              "      box-shadow: 0px 1px 2px rgba(60, 64, 67, 0.3), 0px 1px 3px 1px rgba(60, 64, 67, 0.15);\n",
              "      fill: #174EA6;\n",
              "    }\n",
              "\n",
              "    [theme=dark] .colab-df-convert {\n",
              "      background-color: #3B4455;\n",
              "      fill: #D2E3FC;\n",
              "    }\n",
              "\n",
              "    [theme=dark] .colab-df-convert:hover {\n",
              "      background-color: #434B5C;\n",
              "      box-shadow: 0px 1px 3px 1px rgba(0, 0, 0, 0.15);\n",
              "      filter: drop-shadow(0px 1px 2px rgba(0, 0, 0, 0.3));\n",
              "      fill: #FFFFFF;\n",
              "    }\n",
              "  </style>\n",
              "\n",
              "      <script>\n",
              "        const buttonEl =\n",
              "          document.querySelector('#df-80c587fd-7c30-4962-98d9-1fff656b45b9 button.colab-df-convert');\n",
              "        buttonEl.style.display =\n",
              "          google.colab.kernel.accessAllowed ? 'block' : 'none';\n",
              "\n",
              "        async function convertToInteractive(key) {\n",
              "          const element = document.querySelector('#df-80c587fd-7c30-4962-98d9-1fff656b45b9');\n",
              "          const dataTable =\n",
              "            await google.colab.kernel.invokeFunction('convertToInteractive',\n",
              "                                                     [key], {});\n",
              "          if (!dataTable) return;\n",
              "\n",
              "          const docLinkHtml = 'Like what you see? Visit the ' +\n",
              "            '<a target=\"_blank\" href=https://colab.research.google.com/notebooks/data_table.ipynb>data table notebook</a>'\n",
              "            + ' to learn more about interactive tables.';\n",
              "          element.innerHTML = '';\n",
              "          dataTable['output_type'] = 'display_data';\n",
              "          await google.colab.output.renderOutput(dataTable, element);\n",
              "          const docLink = document.createElement('div');\n",
              "          docLink.innerHTML = docLinkHtml;\n",
              "          element.appendChild(docLink);\n",
              "        }\n",
              "      </script>\n",
              "    </div>\n",
              "  </div>\n",
              "  "
            ]
          },
          "metadata": {},
          "execution_count": 61
        }
      ]
    },
    {
      "cell_type": "code",
      "source": [
        "train.quantile([0.25,0,0.75])"
      ],
      "metadata": {
        "colab": {
          "base_uri": "https://localhost:8080/",
          "height": 187
        },
        "id": "fpOD90Z9_DnS",
        "outputId": "c5229f57-442a-4740-a65b-025af45c53eb"
      },
      "execution_count": 62,
      "outputs": [
        {
          "output_type": "execute_result",
          "data": {
            "text/plain": [
              "          id  hour  hour_bef_temperature  hour_bef_precipitation  \\\n",
              "0.25   555.5   5.5                 12.80                     0.0   \n",
              "0.00     3.0   0.0                  0.00                     0.0   \n",
              "0.75  1651.0  17.5                 20.05                     0.0   \n",
              "\n",
              "      hour_bef_windspeed  hour_bef_humidity  hour_bef_visibility  \\\n",
              "0.25                 1.4               36.0                877.5   \n",
              "0.00                 0.0                0.0                  0.0   \n",
              "0.75                 3.4               68.5               1994.0   \n",
              "\n",
              "      hour_bef_ozone  hour_bef_pm10  hour_bef_pm2.5  count  \n",
              "0.25           0.022           33.0            19.0   37.0  \n",
              "0.00           0.000            0.0             0.0    1.0  \n",
              "0.75           0.051           68.0            36.0  150.0  "
            ],
            "text/html": [
              "\n",
              "  <div id=\"df-e102cf78-4e10-4330-9364-40d326163643\">\n",
              "    <div class=\"colab-df-container\">\n",
              "      <div>\n",
              "<style scoped>\n",
              "    .dataframe tbody tr th:only-of-type {\n",
              "        vertical-align: middle;\n",
              "    }\n",
              "\n",
              "    .dataframe tbody tr th {\n",
              "        vertical-align: top;\n",
              "    }\n",
              "\n",
              "    .dataframe thead th {\n",
              "        text-align: right;\n",
              "    }\n",
              "</style>\n",
              "<table border=\"1\" class=\"dataframe\">\n",
              "  <thead>\n",
              "    <tr style=\"text-align: right;\">\n",
              "      <th></th>\n",
              "      <th>id</th>\n",
              "      <th>hour</th>\n",
              "      <th>hour_bef_temperature</th>\n",
              "      <th>hour_bef_precipitation</th>\n",
              "      <th>hour_bef_windspeed</th>\n",
              "      <th>hour_bef_humidity</th>\n",
              "      <th>hour_bef_visibility</th>\n",
              "      <th>hour_bef_ozone</th>\n",
              "      <th>hour_bef_pm10</th>\n",
              "      <th>hour_bef_pm2.5</th>\n",
              "      <th>count</th>\n",
              "    </tr>\n",
              "  </thead>\n",
              "  <tbody>\n",
              "    <tr>\n",
              "      <th>0.25</th>\n",
              "      <td>555.5</td>\n",
              "      <td>5.5</td>\n",
              "      <td>12.80</td>\n",
              "      <td>0.0</td>\n",
              "      <td>1.4</td>\n",
              "      <td>36.0</td>\n",
              "      <td>877.5</td>\n",
              "      <td>0.022</td>\n",
              "      <td>33.0</td>\n",
              "      <td>19.0</td>\n",
              "      <td>37.0</td>\n",
              "    </tr>\n",
              "    <tr>\n",
              "      <th>0.00</th>\n",
              "      <td>3.0</td>\n",
              "      <td>0.0</td>\n",
              "      <td>0.00</td>\n",
              "      <td>0.0</td>\n",
              "      <td>0.0</td>\n",
              "      <td>0.0</td>\n",
              "      <td>0.0</td>\n",
              "      <td>0.000</td>\n",
              "      <td>0.0</td>\n",
              "      <td>0.0</td>\n",
              "      <td>1.0</td>\n",
              "    </tr>\n",
              "    <tr>\n",
              "      <th>0.75</th>\n",
              "      <td>1651.0</td>\n",
              "      <td>17.5</td>\n",
              "      <td>20.05</td>\n",
              "      <td>0.0</td>\n",
              "      <td>3.4</td>\n",
              "      <td>68.5</td>\n",
              "      <td>1994.0</td>\n",
              "      <td>0.051</td>\n",
              "      <td>68.0</td>\n",
              "      <td>36.0</td>\n",
              "      <td>150.0</td>\n",
              "    </tr>\n",
              "  </tbody>\n",
              "</table>\n",
              "</div>\n",
              "      <button class=\"colab-df-convert\" onclick=\"convertToInteractive('df-e102cf78-4e10-4330-9364-40d326163643')\"\n",
              "              title=\"Convert this dataframe to an interactive table.\"\n",
              "              style=\"display:none;\">\n",
              "        \n",
              "  <svg xmlns=\"http://www.w3.org/2000/svg\" height=\"24px\"viewBox=\"0 0 24 24\"\n",
              "       width=\"24px\">\n",
              "    <path d=\"M0 0h24v24H0V0z\" fill=\"none\"/>\n",
              "    <path d=\"M18.56 5.44l.94 2.06.94-2.06 2.06-.94-2.06-.94-.94-2.06-.94 2.06-2.06.94zm-11 1L8.5 8.5l.94-2.06 2.06-.94-2.06-.94L8.5 2.5l-.94 2.06-2.06.94zm10 10l.94 2.06.94-2.06 2.06-.94-2.06-.94-.94-2.06-.94 2.06-2.06.94z\"/><path d=\"M17.41 7.96l-1.37-1.37c-.4-.4-.92-.59-1.43-.59-.52 0-1.04.2-1.43.59L10.3 9.45l-7.72 7.72c-.78.78-.78 2.05 0 2.83L4 21.41c.39.39.9.59 1.41.59.51 0 1.02-.2 1.41-.59l7.78-7.78 2.81-2.81c.8-.78.8-2.07 0-2.86zM5.41 20L4 18.59l7.72-7.72 1.47 1.35L5.41 20z\"/>\n",
              "  </svg>\n",
              "      </button>\n",
              "      \n",
              "  <style>\n",
              "    .colab-df-container {\n",
              "      display:flex;\n",
              "      flex-wrap:wrap;\n",
              "      gap: 12px;\n",
              "    }\n",
              "\n",
              "    .colab-df-convert {\n",
              "      background-color: #E8F0FE;\n",
              "      border: none;\n",
              "      border-radius: 50%;\n",
              "      cursor: pointer;\n",
              "      display: none;\n",
              "      fill: #1967D2;\n",
              "      height: 32px;\n",
              "      padding: 0 0 0 0;\n",
              "      width: 32px;\n",
              "    }\n",
              "\n",
              "    .colab-df-convert:hover {\n",
              "      background-color: #E2EBFA;\n",
              "      box-shadow: 0px 1px 2px rgba(60, 64, 67, 0.3), 0px 1px 3px 1px rgba(60, 64, 67, 0.15);\n",
              "      fill: #174EA6;\n",
              "    }\n",
              "\n",
              "    [theme=dark] .colab-df-convert {\n",
              "      background-color: #3B4455;\n",
              "      fill: #D2E3FC;\n",
              "    }\n",
              "\n",
              "    [theme=dark] .colab-df-convert:hover {\n",
              "      background-color: #434B5C;\n",
              "      box-shadow: 0px 1px 3px 1px rgba(0, 0, 0, 0.15);\n",
              "      filter: drop-shadow(0px 1px 2px rgba(0, 0, 0, 0.3));\n",
              "      fill: #FFFFFF;\n",
              "    }\n",
              "  </style>\n",
              "\n",
              "      <script>\n",
              "        const buttonEl =\n",
              "          document.querySelector('#df-e102cf78-4e10-4330-9364-40d326163643 button.colab-df-convert');\n",
              "        buttonEl.style.display =\n",
              "          google.colab.kernel.accessAllowed ? 'block' : 'none';\n",
              "\n",
              "        async function convertToInteractive(key) {\n",
              "          const element = document.querySelector('#df-e102cf78-4e10-4330-9364-40d326163643');\n",
              "          const dataTable =\n",
              "            await google.colab.kernel.invokeFunction('convertToInteractive',\n",
              "                                                     [key], {});\n",
              "          if (!dataTable) return;\n",
              "\n",
              "          const docLinkHtml = 'Like what you see? Visit the ' +\n",
              "            '<a target=\"_blank\" href=https://colab.research.google.com/notebooks/data_table.ipynb>data table notebook</a>'\n",
              "            + ' to learn more about interactive tables.';\n",
              "          element.innerHTML = '';\n",
              "          dataTable['output_type'] = 'display_data';\n",
              "          await google.colab.output.renderOutput(dataTable, element);\n",
              "          const docLink = document.createElement('div');\n",
              "          docLink.innerHTML = docLinkHtml;\n",
              "          element.appendChild(docLink);\n",
              "        }\n",
              "      </script>\n",
              "    </div>\n",
              "  </div>\n",
              "  "
            ]
          },
          "metadata": {},
          "execution_count": 62
        }
      ]
    },
    {
      "cell_type": "code",
      "source": [
        "def get_outlier(x):\n",
        "  Q1, Q3 = x.quantile([0.25,0.75])\n",
        "  IQR = Q3-Q1\n",
        "  upper_bound = Q3+1.5*IQR\n",
        "  lower_bound = Q1-1.5*IQR\n",
        "  outliers=x[(x>upper_bound)|(x<lower_bound)]\n",
        "  return str(round(100*len(outliers)/len(x),1))+'%'\n",
        "\n",
        "print(train.apply(get_outlier))"
      ],
      "metadata": {
        "colab": {
          "base_uri": "https://localhost:8080/"
        },
        "id": "2aYuZNOS_GzZ",
        "outputId": "19d5bcc0-e70a-4b66-ec64-a5be04b8f91d"
      },
      "execution_count": 63,
      "outputs": [
        {
          "output_type": "stream",
          "name": "stdout",
          "text": [
            "id                        0.0%\n",
            "hour                      0.0%\n",
            "hour_bef_temperature      0.1%\n",
            "hour_bef_precipitation    3.2%\n",
            "hour_bef_windspeed        0.6%\n",
            "hour_bef_humidity         0.0%\n",
            "hour_bef_visibility       0.0%\n",
            "hour_bef_ozone            0.7%\n",
            "hour_bef_pm10             3.6%\n",
            "hour_bef_pm2.5            4.7%\n",
            "count                     1.6%\n",
            "dtype: object\n"
          ]
        }
      ]
    },
    {
      "cell_type": "code",
      "source": [
        "col_num=['id','hour','hour_bef_temperature','hour_bef_precipitation','hour_bef_windspeed','hour_bef_humidity','hour_bef_visibility','hour_bef_ozone','hour_bef_pm10','hour_bef_pm2.5']\n",
        "col_y=['count']"
      ],
      "metadata": {
        "id": "amyBgzzyAtC2"
      },
      "execution_count": 64,
      "outputs": []
    },
    {
      "cell_type": "code",
      "source": [
        "x_train=train.loc[:,['hour','hour_bef_temperature','hour_bef_precipitation','hour_bef_windspeed','hour_bef_humidity','hour_bef_visibility','hour_bef_ozone','hour_bef_pm10','hour_bef_pm2.5']]"
      ],
      "metadata": {
        "id": "fzhSBQ_SC591"
      },
      "execution_count": 65,
      "outputs": []
    },
    {
      "cell_type": "code",
      "source": [
        "x_train"
      ],
      "metadata": {
        "colab": {
          "base_uri": "https://localhost:8080/",
          "height": 424
        },
        "id": "-AQfRXacDVlf",
        "outputId": "4b9674b7-62ed-4c32-bb32-ca191fd18fa7"
      },
      "execution_count": 66,
      "outputs": [
        {
          "output_type": "execute_result",
          "data": {
            "text/plain": [
              "      hour  hour_bef_temperature  hour_bef_precipitation  hour_bef_windspeed  \\\n",
              "0       20                  16.3                     1.0                 1.5   \n",
              "1       13                  20.1                     0.0                 1.4   \n",
              "2        6                  13.9                     0.0                 0.7   \n",
              "3       23                   8.1                     0.0                 2.7   \n",
              "4       18                  29.5                     0.0                 4.8   \n",
              "...    ...                   ...                     ...                 ...   \n",
              "1454     4                  16.8                     0.0                 1.6   \n",
              "1455     3                  10.8                     0.0                 3.8   \n",
              "1456     5                  18.3                     0.0                 1.9   \n",
              "1457    21                  20.7                     0.0                 3.7   \n",
              "1458    17                  21.1                     0.0                 3.1   \n",
              "\n",
              "      hour_bef_humidity  hour_bef_visibility  hour_bef_ozone  hour_bef_pm10  \\\n",
              "0                  89.0                576.0           0.027           76.0   \n",
              "1                  48.0                916.0           0.042           73.0   \n",
              "2                  79.0               1382.0           0.033           32.0   \n",
              "3                  54.0                946.0           0.040           75.0   \n",
              "4                   7.0               2000.0           0.057           27.0   \n",
              "...                 ...                  ...             ...            ...   \n",
              "1454               53.0               2000.0           0.031           37.0   \n",
              "1455               45.0               2000.0           0.039           34.0   \n",
              "1456               54.0               2000.0           0.009           30.0   \n",
              "1457               37.0               1395.0           0.082           71.0   \n",
              "1458               47.0               1973.0           0.046           38.0   \n",
              "\n",
              "      hour_bef_pm2.5  \n",
              "0               33.0  \n",
              "1               40.0  \n",
              "2               19.0  \n",
              "3               64.0  \n",
              "4               11.0  \n",
              "...              ...  \n",
              "1454            27.0  \n",
              "1455            19.0  \n",
              "1456            21.0  \n",
              "1457            36.0  \n",
              "1458            17.0  \n",
              "\n",
              "[1459 rows x 9 columns]"
            ],
            "text/html": [
              "\n",
              "  <div id=\"df-ec1e6964-5a6e-4992-a776-4b9ae7a053dc\">\n",
              "    <div class=\"colab-df-container\">\n",
              "      <div>\n",
              "<style scoped>\n",
              "    .dataframe tbody tr th:only-of-type {\n",
              "        vertical-align: middle;\n",
              "    }\n",
              "\n",
              "    .dataframe tbody tr th {\n",
              "        vertical-align: top;\n",
              "    }\n",
              "\n",
              "    .dataframe thead th {\n",
              "        text-align: right;\n",
              "    }\n",
              "</style>\n",
              "<table border=\"1\" class=\"dataframe\">\n",
              "  <thead>\n",
              "    <tr style=\"text-align: right;\">\n",
              "      <th></th>\n",
              "      <th>hour</th>\n",
              "      <th>hour_bef_temperature</th>\n",
              "      <th>hour_bef_precipitation</th>\n",
              "      <th>hour_bef_windspeed</th>\n",
              "      <th>hour_bef_humidity</th>\n",
              "      <th>hour_bef_visibility</th>\n",
              "      <th>hour_bef_ozone</th>\n",
              "      <th>hour_bef_pm10</th>\n",
              "      <th>hour_bef_pm2.5</th>\n",
              "    </tr>\n",
              "  </thead>\n",
              "  <tbody>\n",
              "    <tr>\n",
              "      <th>0</th>\n",
              "      <td>20</td>\n",
              "      <td>16.3</td>\n",
              "      <td>1.0</td>\n",
              "      <td>1.5</td>\n",
              "      <td>89.0</td>\n",
              "      <td>576.0</td>\n",
              "      <td>0.027</td>\n",
              "      <td>76.0</td>\n",
              "      <td>33.0</td>\n",
              "    </tr>\n",
              "    <tr>\n",
              "      <th>1</th>\n",
              "      <td>13</td>\n",
              "      <td>20.1</td>\n",
              "      <td>0.0</td>\n",
              "      <td>1.4</td>\n",
              "      <td>48.0</td>\n",
              "      <td>916.0</td>\n",
              "      <td>0.042</td>\n",
              "      <td>73.0</td>\n",
              "      <td>40.0</td>\n",
              "    </tr>\n",
              "    <tr>\n",
              "      <th>2</th>\n",
              "      <td>6</td>\n",
              "      <td>13.9</td>\n",
              "      <td>0.0</td>\n",
              "      <td>0.7</td>\n",
              "      <td>79.0</td>\n",
              "      <td>1382.0</td>\n",
              "      <td>0.033</td>\n",
              "      <td>32.0</td>\n",
              "      <td>19.0</td>\n",
              "    </tr>\n",
              "    <tr>\n",
              "      <th>3</th>\n",
              "      <td>23</td>\n",
              "      <td>8.1</td>\n",
              "      <td>0.0</td>\n",
              "      <td>2.7</td>\n",
              "      <td>54.0</td>\n",
              "      <td>946.0</td>\n",
              "      <td>0.040</td>\n",
              "      <td>75.0</td>\n",
              "      <td>64.0</td>\n",
              "    </tr>\n",
              "    <tr>\n",
              "      <th>4</th>\n",
              "      <td>18</td>\n",
              "      <td>29.5</td>\n",
              "      <td>0.0</td>\n",
              "      <td>4.8</td>\n",
              "      <td>7.0</td>\n",
              "      <td>2000.0</td>\n",
              "      <td>0.057</td>\n",
              "      <td>27.0</td>\n",
              "      <td>11.0</td>\n",
              "    </tr>\n",
              "    <tr>\n",
              "      <th>...</th>\n",
              "      <td>...</td>\n",
              "      <td>...</td>\n",
              "      <td>...</td>\n",
              "      <td>...</td>\n",
              "      <td>...</td>\n",
              "      <td>...</td>\n",
              "      <td>...</td>\n",
              "      <td>...</td>\n",
              "      <td>...</td>\n",
              "    </tr>\n",
              "    <tr>\n",
              "      <th>1454</th>\n",
              "      <td>4</td>\n",
              "      <td>16.8</td>\n",
              "      <td>0.0</td>\n",
              "      <td>1.6</td>\n",
              "      <td>53.0</td>\n",
              "      <td>2000.0</td>\n",
              "      <td>0.031</td>\n",
              "      <td>37.0</td>\n",
              "      <td>27.0</td>\n",
              "    </tr>\n",
              "    <tr>\n",
              "      <th>1455</th>\n",
              "      <td>3</td>\n",
              "      <td>10.8</td>\n",
              "      <td>0.0</td>\n",
              "      <td>3.8</td>\n",
              "      <td>45.0</td>\n",
              "      <td>2000.0</td>\n",
              "      <td>0.039</td>\n",
              "      <td>34.0</td>\n",
              "      <td>19.0</td>\n",
              "    </tr>\n",
              "    <tr>\n",
              "      <th>1456</th>\n",
              "      <td>5</td>\n",
              "      <td>18.3</td>\n",
              "      <td>0.0</td>\n",
              "      <td>1.9</td>\n",
              "      <td>54.0</td>\n",
              "      <td>2000.0</td>\n",
              "      <td>0.009</td>\n",
              "      <td>30.0</td>\n",
              "      <td>21.0</td>\n",
              "    </tr>\n",
              "    <tr>\n",
              "      <th>1457</th>\n",
              "      <td>21</td>\n",
              "      <td>20.7</td>\n",
              "      <td>0.0</td>\n",
              "      <td>3.7</td>\n",
              "      <td>37.0</td>\n",
              "      <td>1395.0</td>\n",
              "      <td>0.082</td>\n",
              "      <td>71.0</td>\n",
              "      <td>36.0</td>\n",
              "    </tr>\n",
              "    <tr>\n",
              "      <th>1458</th>\n",
              "      <td>17</td>\n",
              "      <td>21.1</td>\n",
              "      <td>0.0</td>\n",
              "      <td>3.1</td>\n",
              "      <td>47.0</td>\n",
              "      <td>1973.0</td>\n",
              "      <td>0.046</td>\n",
              "      <td>38.0</td>\n",
              "      <td>17.0</td>\n",
              "    </tr>\n",
              "  </tbody>\n",
              "</table>\n",
              "<p>1459 rows × 9 columns</p>\n",
              "</div>\n",
              "      <button class=\"colab-df-convert\" onclick=\"convertToInteractive('df-ec1e6964-5a6e-4992-a776-4b9ae7a053dc')\"\n",
              "              title=\"Convert this dataframe to an interactive table.\"\n",
              "              style=\"display:none;\">\n",
              "        \n",
              "  <svg xmlns=\"http://www.w3.org/2000/svg\" height=\"24px\"viewBox=\"0 0 24 24\"\n",
              "       width=\"24px\">\n",
              "    <path d=\"M0 0h24v24H0V0z\" fill=\"none\"/>\n",
              "    <path d=\"M18.56 5.44l.94 2.06.94-2.06 2.06-.94-2.06-.94-.94-2.06-.94 2.06-2.06.94zm-11 1L8.5 8.5l.94-2.06 2.06-.94-2.06-.94L8.5 2.5l-.94 2.06-2.06.94zm10 10l.94 2.06.94-2.06 2.06-.94-2.06-.94-.94-2.06-.94 2.06-2.06.94z\"/><path d=\"M17.41 7.96l-1.37-1.37c-.4-.4-.92-.59-1.43-.59-.52 0-1.04.2-1.43.59L10.3 9.45l-7.72 7.72c-.78.78-.78 2.05 0 2.83L4 21.41c.39.39.9.59 1.41.59.51 0 1.02-.2 1.41-.59l7.78-7.78 2.81-2.81c.8-.78.8-2.07 0-2.86zM5.41 20L4 18.59l7.72-7.72 1.47 1.35L5.41 20z\"/>\n",
              "  </svg>\n",
              "      </button>\n",
              "      \n",
              "  <style>\n",
              "    .colab-df-container {\n",
              "      display:flex;\n",
              "      flex-wrap:wrap;\n",
              "      gap: 12px;\n",
              "    }\n",
              "\n",
              "    .colab-df-convert {\n",
              "      background-color: #E8F0FE;\n",
              "      border: none;\n",
              "      border-radius: 50%;\n",
              "      cursor: pointer;\n",
              "      display: none;\n",
              "      fill: #1967D2;\n",
              "      height: 32px;\n",
              "      padding: 0 0 0 0;\n",
              "      width: 32px;\n",
              "    }\n",
              "\n",
              "    .colab-df-convert:hover {\n",
              "      background-color: #E2EBFA;\n",
              "      box-shadow: 0px 1px 2px rgba(60, 64, 67, 0.3), 0px 1px 3px 1px rgba(60, 64, 67, 0.15);\n",
              "      fill: #174EA6;\n",
              "    }\n",
              "\n",
              "    [theme=dark] .colab-df-convert {\n",
              "      background-color: #3B4455;\n",
              "      fill: #D2E3FC;\n",
              "    }\n",
              "\n",
              "    [theme=dark] .colab-df-convert:hover {\n",
              "      background-color: #434B5C;\n",
              "      box-shadow: 0px 1px 3px 1px rgba(0, 0, 0, 0.15);\n",
              "      filter: drop-shadow(0px 1px 2px rgba(0, 0, 0, 0.3));\n",
              "      fill: #FFFFFF;\n",
              "    }\n",
              "  </style>\n",
              "\n",
              "      <script>\n",
              "        const buttonEl =\n",
              "          document.querySelector('#df-ec1e6964-5a6e-4992-a776-4b9ae7a053dc button.colab-df-convert');\n",
              "        buttonEl.style.display =\n",
              "          google.colab.kernel.accessAllowed ? 'block' : 'none';\n",
              "\n",
              "        async function convertToInteractive(key) {\n",
              "          const element = document.querySelector('#df-ec1e6964-5a6e-4992-a776-4b9ae7a053dc');\n",
              "          const dataTable =\n",
              "            await google.colab.kernel.invokeFunction('convertToInteractive',\n",
              "                                                     [key], {});\n",
              "          if (!dataTable) return;\n",
              "\n",
              "          const docLinkHtml = 'Like what you see? Visit the ' +\n",
              "            '<a target=\"_blank\" href=https://colab.research.google.com/notebooks/data_table.ipynb>data table notebook</a>'\n",
              "            + ' to learn more about interactive tables.';\n",
              "          element.innerHTML = '';\n",
              "          dataTable['output_type'] = 'display_data';\n",
              "          await google.colab.output.renderOutput(dataTable, element);\n",
              "          const docLink = document.createElement('div');\n",
              "          docLink.innerHTML = docLinkHtml;\n",
              "          element.appendChild(docLink);\n",
              "        }\n",
              "      </script>\n",
              "    </div>\n",
              "  </div>\n",
              "  "
            ]
          },
          "metadata": {},
          "execution_count": 66
        }
      ]
    },
    {
      "cell_type": "code",
      "source": [
        "y_train=train.loc[:,'count']"
      ],
      "metadata": {
        "id": "6OXpRj1EDf4K"
      },
      "execution_count": 67,
      "outputs": []
    },
    {
      "cell_type": "code",
      "source": [
        "y_train"
      ],
      "metadata": {
        "colab": {
          "base_uri": "https://localhost:8080/"
        },
        "id": "SfVEss8gDmlx",
        "outputId": "368c1804-5081-4ec3-e62a-59944bf5bbab"
      },
      "execution_count": 68,
      "outputs": [
        {
          "output_type": "execute_result",
          "data": {
            "text/plain": [
              "0        49.0\n",
              "1       159.0\n",
              "2        26.0\n",
              "3        57.0\n",
              "4       431.0\n",
              "        ...  \n",
              "1454     21.0\n",
              "1455     20.0\n",
              "1456     22.0\n",
              "1457    216.0\n",
              "1458    170.0\n",
              "Name: count, Length: 1459, dtype: float64"
            ]
          },
          "metadata": {},
          "execution_count": 68
        }
      ]
    },
    {
      "cell_type": "code",
      "source": [
        "from sklearn.svm import SVR\n",
        "SVM_model=SVR()\n",
        "SVM_model.fit(x_train,y_train)"
      ],
      "metadata": {
        "colab": {
          "base_uri": "https://localhost:8080/"
        },
        "id": "Q09OLN2zDoPh",
        "outputId": "4a4044d4-8f12-4eb4-c240-3f2858982b3a"
      },
      "execution_count": 69,
      "outputs": [
        {
          "output_type": "execute_result",
          "data": {
            "text/plain": [
              "SVR()"
            ]
          },
          "metadata": {},
          "execution_count": 69
        }
      ]
    },
    {
      "cell_type": "code",
      "source": [
        "x_test=test.loc[:,['hour','hour_bef_temperature','hour_bef_precipitation','hour_bef_windspeed','hour_bef_humidity','hour_bef_visibility','hour_bef_ozone','hour_bef_pm10','hour_bef_pm2.5']]"
      ],
      "metadata": {
        "id": "EbiZ11utFPn0"
      },
      "execution_count": 70,
      "outputs": []
    },
    {
      "cell_type": "code",
      "source": [
        "y_pred_svm=SVM_model.predict(x_train)"
      ],
      "metadata": {
        "id": "8jhENEriDyPE"
      },
      "execution_count": 71,
      "outputs": []
    },
    {
      "cell_type": "code",
      "source": [
        "from sklearn.metrics import mean_squared_error\n",
        "mean_squared_error(y_train,y_pred_svm,squared=False)"
      ],
      "metadata": {
        "colab": {
          "base_uri": "https://localhost:8080/"
        },
        "id": "Y9mZhk8XEPLu",
        "outputId": "d19ac891-7ceb-4a6a-b8dd-73c5b72f3b66"
      },
      "execution_count": 72,
      "outputs": [
        {
          "output_type": "execute_result",
          "data": {
            "text/plain": [
              "79.9578278143794"
            ]
          },
          "metadata": {},
          "execution_count": 72
        }
      ]
    },
    {
      "cell_type": "code",
      "source": [],
      "metadata": {
        "id": "DJ4YQnU4ErcX"
      },
      "execution_count": 72,
      "outputs": []
    }
  ]
}